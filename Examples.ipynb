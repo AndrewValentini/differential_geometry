{
 "cells": [
  {
   "cell_type": "code",
   "execution_count": 2,
   "id": "239580fe-98c0-4e10-b1da-96fcb56ef23d",
   "metadata": {},
   "outputs": [],
   "source": [
    "from sympy import *\n",
    "from IPython.display import display, Latex\n",
    "\n",
    "from definitions import christoffel_symbols, Riemann, Riemann_from_christoffel,Ricci_tensor, Ricci_scalar, Einstein_tensor"
   ]
  },
  {
   "cell_type": "markdown",
   "id": "b85eb2df-55f3-4459-b664-7b90e845f63c",
   "metadata": {},
   "source": [
    "## Flat Spacetime"
   ]
  },
  {
   "cell_type": "code",
   "execution_count": 15,
   "id": "fb921d28-04df-4b1c-ae67-e2ca922d3d7d",
   "metadata": {},
   "outputs": [
    {
     "name": "stdout",
     "output_type": "stream",
     "text": [
      "Christoffel Symbols:\n"
     ]
    }
   ],
   "source": [
    "t, x, y, z = symbols('t x y z')\n",
    "metric_tensor = Matrix([[-1, 0, 0, 0], [0, 1, 0, 0], [0,0,1,0], [0,0,0,1]])\n",
    "inverse_metric_tensor = metric_tensor.inv()\n",
    "coordinates = [t, x, y, z]\n",
    "\n",
    "# Calculate Christoffel symbols for specified terms\n",
    "christoffel_symbols_result = christoffel_symbols(metric_tensor, inverse_metric_tensor, coordinates)\n",
    "\n",
    "# Display the result in LaTeX format using IPython.display.Latex\n",
    "print(\"Christoffel Symbols:\")\n",
    "for i in range(len(coordinates)):\n",
    "    for j in range(len(coordinates)):\n",
    "        for k in range(len(coordinates)):\n",
    "            if christoffel_symbols_result[i][j][k] != 0:\n",
    "                simplified = simplify(christoffel_symbols_result[i][j][k])\n",
    "                symbol_latex = latex(simplified)\n",
    "                display(Latex(f'\\\\(\\\\Gamma^{{{latex(coordinates[i])}}}_{{{latex(coordinates[j])}{latex(coordinates[k])}}} = {symbol_latex}\\\\)'))\n",
    "\n",
    "# Greek Symbols: α, β, γ, δ, ε, ζ, η, θ, ι, κ, λ, μ, ν, ξ, ο, π, ρ, σ, τ, υ, φ, χ, ψ, ω,\n",
    "#                 Α, Β, Γ, Δ, Ε, Ζ, Η, Θ, Ι, Κ, Λ, Μ, Ν, Ξ, Ο, Π, Ρ, Σ, Τ, Υ, Φ, Χ, Ψ, Ω\n"
   ]
  },
  {
   "cell_type": "code",
   "execution_count": 16,
   "id": "20a4a11e-bc97-4f0b-a762-bba34358c035",
   "metadata": {},
   "outputs": [
    {
     "name": "stdout",
     "output_type": "stream",
     "text": [
      "Riemann Curvature Tensor Components:\n"
     ]
    }
   ],
   "source": [
    "t,x,y,z = symbols('t x y z')\n",
    "metric_tensor = Matrix([[-1, 0, 0, 0], [0, 1, 0, 0], [0,0,1,0], [0,0,0,1]])\n",
    "inverse_metric_tensor = metric_tensor.inv()\n",
    "coordinates = [t, x, y, z]\n",
    "\n",
    "# Calculate Christoffel symbols for specified terms\n",
    "Riemann_result = Riemann(metric_tensor, inverse_metric_tensor, coordinates)\n",
    "\n",
    "# Display the result in LaTeX format using IPython.display.Latex\n",
    "\n",
    "print(\"Riemann Curvature Tensor Components:\")\n",
    "for i in range(len(coordinates)):\n",
    "    for j in range(len(coordinates)):\n",
    "        for k in range(len(coordinates)):\n",
    "            for l in range(len(coordinates)):\n",
    "                if Riemann_result[i][j][k][l] != 0:\n",
    "                    simplified_component = simplify(Riemann_result[i][j][k][l])\n",
    "                    symbol_latex = latex(simplified_component)\n",
    "                    display(Latex(f'\\\\(R^{{{latex(coordinates[i])}}}_{{{latex(coordinates[j])}{latex(coordinates[k])}{latex(coordinates[l])}}} = {symbol_latex}\\\\)'))\n",
    "                    \n",
    "# Greek Symbols: α, β, γ, δ, ε, ζ, η, θ, ι, κ, λ, μ, ν, ξ, ο, π, ρ, σ, τ, υ, φ, χ, ψ, ω,\n",
    "#                 Α, Β, Γ, Δ, Ε, Ζ, Η, Θ, Ι, Κ, Λ, Μ, Ν, Ξ, Ο, Π, Ρ, Σ, Τ, Υ, Φ, Χ, Ψ, Ω\n"
   ]
  },
  {
   "cell_type": "markdown",
   "id": "a2498d23-53b7-4607-abdf-59e959a33d4c",
   "metadata": {},
   "source": [
    "## Polar Coordinates"
   ]
  },
  {
   "cell_type": "code",
   "execution_count": 17,
   "id": "f9a1c467-1bc7-4402-a5e7-4630b27d6c6c",
   "metadata": {},
   "outputs": [
    {
     "name": "stdout",
     "output_type": "stream",
     "text": [
      "Christoffel Symbols:\n"
     ]
    },
    {
     "data": {
      "text/latex": [
       "\\(\\Gamma^{r}_{θθ} = - 1.0 r\\)"
      ],
      "text/plain": [
       "<IPython.core.display.Latex object>"
      ]
     },
     "metadata": {},
     "output_type": "display_data"
    },
    {
     "data": {
      "text/latex": [
       "\\(\\Gamma^{θ}_{rθ} = \\frac{1.0}{r}\\)"
      ],
      "text/plain": [
       "<IPython.core.display.Latex object>"
      ]
     },
     "metadata": {},
     "output_type": "display_data"
    },
    {
     "data": {
      "text/latex": [
       "\\(\\Gamma^{θ}_{θr} = \\frac{1.0}{r}\\)"
      ],
      "text/plain": [
       "<IPython.core.display.Latex object>"
      ]
     },
     "metadata": {},
     "output_type": "display_data"
    }
   ],
   "source": [
    "r, θ = symbols('r, θ')\n",
    "metric_tensor = Matrix([[1,0], [0,r**2]])\n",
    "inverse_metric_tensor = metric_tensor.inv()\n",
    "coordinates = [r, θ]\n",
    "\n",
    "# Calculate Christoffel symbols for specified terms\n",
    "christoffel_symbols_result = christoffel_symbols(metric_tensor, inverse_metric_tensor, coordinates)\n",
    "\n",
    "# Display the result in LaTeX format using IPython.display.Latex\n",
    "print(\"Christoffel Symbols:\")\n",
    "for i in range(len(coordinates)):\n",
    "    for j in range(len(coordinates)):\n",
    "        for k in range(len(coordinates)):\n",
    "            if christoffel_symbols_result[i][j][k] != 0:\n",
    "                simplified = simplify(christoffel_symbols_result[i][j][k])\n",
    "                symbol_latex = latex(simplified)\n",
    "                display(Latex(f'\\\\(\\\\Gamma^{{{latex(coordinates[i])}}}_{{{latex(coordinates[j])}{latex(coordinates[k])}}} = {symbol_latex}\\\\)'))\n",
    "\n",
    "# Greek Symbols: α, β, γ, δ, ε, ζ, η, θ, ι, κ, λ, μ, ν, ξ, ο, π, ρ, σ, τ, υ, φ, χ, ψ, ω,\n",
    "#                 Α, Β, Γ, Δ, Ε, Ζ, Η, Θ, Ι, Κ, Λ, Μ, Ν, Ξ, Ο, Π, Ρ, Σ, Τ, Υ, Φ, Χ, Ψ, Ω\n"
   ]
  },
  {
   "cell_type": "code",
   "execution_count": 7,
   "id": "84724bfd-8941-4c38-bf4d-869f67a9fe17",
   "metadata": {},
   "outputs": [
    {
     "name": "stdout",
     "output_type": "stream",
     "text": [
      "Riemann Curvature Tensor Components:\n"
     ]
    },
    {
     "data": {
      "text/latex": [
       "\\(R^{r}_{θrθ} = -1.0\\)"
      ],
      "text/plain": [
       "<IPython.core.display.Latex object>"
      ]
     },
     "metadata": {},
     "output_type": "display_data"
    },
    {
     "data": {
      "text/latex": [
       "\\(R^{r}_{θθr} = 1.0\\)"
      ],
      "text/plain": [
       "<IPython.core.display.Latex object>"
      ]
     },
     "metadata": {},
     "output_type": "display_data"
    },
    {
     "data": {
      "text/latex": [
       "\\(R^{θ}_{rrθ} = \\frac{1.0}{r^{2}}\\)"
      ],
      "text/plain": [
       "<IPython.core.display.Latex object>"
      ]
     },
     "metadata": {},
     "output_type": "display_data"
    },
    {
     "data": {
      "text/latex": [
       "\\(R^{θ}_{rθr} = - \\frac{1.0}{r^{2}}\\)"
      ],
      "text/plain": [
       "<IPython.core.display.Latex object>"
      ]
     },
     "metadata": {},
     "output_type": "display_data"
    }
   ],
   "source": [
    "r, θ = symbols('r, θ')\n",
    "metric_tensor = Matrix([[1,0], [0,r**2]])\n",
    "inverse_metric_tensor = metric_tensor.inv()\n",
    "coordinates = [r, θ]\n",
    "\n",
    "# Calculate Christoffel symbols for specified terms\n",
    "Riemann_result = Riemann(metric_tensor, inverse_metric_tensor, coordinates)\n",
    "\n",
    "# Display the result in LaTeX format using IPython.display.Latex\n",
    "\n",
    "print(\"Riemann Curvature Tensor Components:\")\n",
    "for i in range(len(coordinates)):\n",
    "    for j in range(len(coordinates)):\n",
    "        for k in range(len(coordinates)):\n",
    "            for l in range(len(coordinates)):\n",
    "                if Riemann_result[i][j][k][l] != 0:\n",
    "                    simplified_component = simplify(Riemann_result[i][j][k][l])\n",
    "                    symbol_latex = latex(simplified_component)\n",
    "                    display(Latex(f'\\\\(R^{{{latex(coordinates[i])}}}_{{{latex(coordinates[j])}{latex(coordinates[k])}{latex(coordinates[l])}}} = {symbol_latex}\\\\)'))\n",
    "                    \n",
    "# Greek Symbols: α, β, γ, δ, ε, ζ, η, θ, ι, κ, λ, μ, ν, ξ, ο, π, ρ, σ, τ, υ, φ, χ, ψ, ω,\n",
    "#                 Α, Β, Γ, Δ, Ε, Ζ, Η, Θ, Ι, Κ, Λ, Μ, Ν, Ξ, Ο, Π, Ρ, Σ, Τ, Υ, Φ, Χ, Ψ, Ω\n"
   ]
  },
  {
   "cell_type": "code",
   "execution_count": 10,
   "id": "c3cd92d8-59ba-4bb5-a967-faa38b264c11",
   "metadata": {},
   "outputs": [
    {
     "name": "stdout",
     "output_type": "stream",
     "text": [
      "Ricci Tensor Components:\n"
     ]
    }
   ],
   "source": [
    "r, θ = symbols('r, θ')\n",
    "metric_tensor = Matrix([[1,0], [0,r**2]])\n",
    "inverse_metric_tensor = metric_tensor.inv()\n",
    "coordinates = [r, θ]\n",
    "\n",
    "Ricci_result = Ricci_tensor(metric_tensor, inverse_metric_tensor, coordinates)\n",
    "\n",
    "# Display the result in LaTeX format using IPython.display.Latex\n",
    "\n",
    "print(\"Ricci Tensor Components:\")\n",
    "for i in range(len(coordinates)):\n",
    "    for j in range(len(coordinates)):\n",
    "        if Ricci_result[i][j] != 0:\n",
    "            simplified_component = simplify(Ricci_result[i][j])\n",
    "            symbol_latex = latex(simplified_component)\n",
    "            display(Latex(f'\\\\(R_{{{latex(coordinates[i])}{latex(coordinates[j])}}} = {symbol_latex}\\\\)'))\n",
    "            \n",
    "# Greek Symbols: α, β, γ, δ, ε, ζ, η, θ, ι, κ, λ, μ, ν, ξ, ο, π, ρ, σ, τ, υ, φ, χ, ψ, ω,\n",
    "#                 Α, Β, Γ, Δ, Ε, Ζ, Η, Θ, Ι, Κ, Λ, Μ, Ν, Ξ, Ο, Π, Ρ, Σ, Τ, Υ, Φ, Χ, Ψ, Ω\n"
   ]
  },
  {
   "cell_type": "code",
   "execution_count": 3,
   "id": "f6bb77da-6b88-4adf-a0e6-eccae6904049",
   "metadata": {},
   "outputs": [
    {
     "name": "stdout",
     "output_type": "stream",
     "text": [
      "Ricci Scalar:\n"
     ]
    },
    {
     "data": {
      "text/latex": [
       "\\(R = 0\\)"
      ],
      "text/plain": [
       "<IPython.core.display.Latex object>"
      ]
     },
     "metadata": {},
     "output_type": "display_data"
    }
   ],
   "source": [
    "r, θ = symbols('r, θ')\n",
    "metric_tensor = Matrix([[1,0], [0,r**2]])\n",
    "inverse_metric_tensor = metric_tensor.inv()\n",
    "coordinates = [r, θ]\n",
    "\n",
    "Ricci_result = Ricci_scalar(metric_tensor, inverse_metric_tensor, coordinates)\n",
    "\n",
    "# Display the result in LaTeX format using IPython.display.Latex\n",
    "\n",
    "print(\"Ricci Scalar:\")\n",
    "symbol_latex = latex(Ricci_result)\n",
    "display(Latex(f'\\\\(R = {symbol_latex}\\\\)'))\n",
    "            \n",
    "# Greek Symbols: α, β, γ, δ, ε, ζ, η, θ, ι, κ, λ, μ, ν, ξ, ο, π, ρ, σ, τ, υ, φ, χ, ψ, ω,\n",
    "#                 Α, Β, Γ, Δ, Ε, Ζ, Η, Θ, Ι, Κ, Λ, Μ, Ν, Ξ, Ο, Π, Ρ, Σ, Τ, Υ, Φ, Χ, Ψ, Ω\n"
   ]
  },
  {
   "cell_type": "code",
   "execution_count": 2,
   "id": "28ee6fdf-5f59-4d68-8cc2-bd14e163344c",
   "metadata": {},
   "outputs": [
    {
     "name": "stdout",
     "output_type": "stream",
     "text": [
      "Einstein Tensor components:\n"
     ]
    }
   ],
   "source": [
    "r, θ = symbols('r, θ')\n",
    "metric_tensor = Matrix([[1,0], [0,r**2]])\n",
    "inverse_metric_tensor = metric_tensor.inv()\n",
    "coordinates = [r, θ]\n",
    "\n",
    "Einstein_result = Einstein_tensor(metric_tensor, inverse_metric_tensor, coordinates)\n",
    "\n",
    "# Display the result in LaTeX format using IPython.display.Latex\n",
    "\n",
    "print(\"Einstein Tensor components:\")\n",
    "for i in range(len(coordinates)):\n",
    "    for j in range(len(coordinates)):\n",
    "        if Einstein_result[i][j] != 0:\n",
    "            simplified_component = simplify(Einstein_result[i][j])\n",
    "            symbol_latex = latex(simplified_component)\n",
    "            display(Latex(f'\\\\(E_{{{latex(coordinates[i])}{latex(coordinates[j])}}} = {symbol_latex}\\\\)'))\n",
    "            \n",
    "            "
   ]
  },
  {
   "cell_type": "markdown",
   "id": "f543df04-333e-49dd-80ab-4bb4f3f5c19c",
   "metadata": {},
   "source": [
    "$$g_{\\mu \\nu} = \\begin{pmatrix}\n",
    "-e^{2 \\Phi(r)} & 0 & 0 & 0 \\\\\n",
    "0 & e^{2\\Lambda(r)} & 0 & \\\\\n",
    "0 & 0 & r^2 & 0 \\\\\n",
    "0 & 0 & 0 & r^2\\sin^2(\\theta)\n",
    "\\end{pmatrix}$$"
   ]
  },
  {
   "cell_type": "code",
   "execution_count": 4,
   "id": "2b4c2d4e-fc6e-4e7e-8554-bbf31d56c5b9",
   "metadata": {},
   "outputs": [
    {
     "name": "stdout",
     "output_type": "stream",
     "text": [
      "Christoffel Symbols:\n"
     ]
    },
    {
     "data": {
      "text/latex": [
       "\\(\\Gamma^{t}_{tr} = 1.0 \\frac{d}{d r} Φ{\\left(r \\right)}\\)"
      ],
      "text/plain": [
       "<IPython.core.display.Latex object>"
      ]
     },
     "metadata": {},
     "output_type": "display_data"
    },
    {
     "data": {
      "text/latex": [
       "\\(\\Gamma^{t}_{rt} = 1.0 \\frac{d}{d r} Φ{\\left(r \\right)}\\)"
      ],
      "text/plain": [
       "<IPython.core.display.Latex object>"
      ]
     },
     "metadata": {},
     "output_type": "display_data"
    },
    {
     "data": {
      "text/latex": [
       "\\(\\Gamma^{r}_{tt} = - 1.0 e^{- 2 Λ{\\left(r \\right)} + 2 Φ{\\left(r \\right)}} \\frac{d}{d r} Φ{\\left(r \\right)}\\)"
      ],
      "text/plain": [
       "<IPython.core.display.Latex object>"
      ]
     },
     "metadata": {},
     "output_type": "display_data"
    },
    {
     "data": {
      "text/latex": [
       "\\(\\Gamma^{r}_{rr} = 1.0 \\frac{d}{d r} Λ{\\left(r \\right)}\\)"
      ],
      "text/plain": [
       "<IPython.core.display.Latex object>"
      ]
     },
     "metadata": {},
     "output_type": "display_data"
    },
    {
     "data": {
      "text/latex": [
       "\\(\\Gamma^{r}_{θθ} = 1.0 r e^{- 2 Λ{\\left(r \\right)}}\\)"
      ],
      "text/plain": [
       "<IPython.core.display.Latex object>"
      ]
     },
     "metadata": {},
     "output_type": "display_data"
    },
    {
     "data": {
      "text/latex": [
       "\\(\\Gamma^{r}_{φφ} = 1.0 r e^{- 2 Λ{\\left(r \\right)}} \\sin^{2}{\\left(θ \\right)}\\)"
      ],
      "text/plain": [
       "<IPython.core.display.Latex object>"
      ]
     },
     "metadata": {},
     "output_type": "display_data"
    },
    {
     "data": {
      "text/latex": [
       "\\(\\Gamma^{θ}_{rθ} = \\frac{1.0}{r}\\)"
      ],
      "text/plain": [
       "<IPython.core.display.Latex object>"
      ]
     },
     "metadata": {},
     "output_type": "display_data"
    },
    {
     "data": {
      "text/latex": [
       "\\(\\Gamma^{θ}_{θr} = \\frac{1.0}{r}\\)"
      ],
      "text/plain": [
       "<IPython.core.display.Latex object>"
      ]
     },
     "metadata": {},
     "output_type": "display_data"
    },
    {
     "data": {
      "text/latex": [
       "\\(\\Gamma^{θ}_{φφ} = - 0.5 \\sin{\\left(2 θ \\right)}\\)"
      ],
      "text/plain": [
       "<IPython.core.display.Latex object>"
      ]
     },
     "metadata": {},
     "output_type": "display_data"
    },
    {
     "data": {
      "text/latex": [
       "\\(\\Gamma^{φ}_{rφ} = \\frac{1.0}{r}\\)"
      ],
      "text/plain": [
       "<IPython.core.display.Latex object>"
      ]
     },
     "metadata": {},
     "output_type": "display_data"
    },
    {
     "data": {
      "text/latex": [
       "\\(\\Gamma^{φ}_{θφ} = \\frac{1.0}{\\tan{\\left(θ \\right)}}\\)"
      ],
      "text/plain": [
       "<IPython.core.display.Latex object>"
      ]
     },
     "metadata": {},
     "output_type": "display_data"
    },
    {
     "data": {
      "text/latex": [
       "\\(\\Gamma^{φ}_{φr} = \\frac{1.0}{r}\\)"
      ],
      "text/plain": [
       "<IPython.core.display.Latex object>"
      ]
     },
     "metadata": {},
     "output_type": "display_data"
    },
    {
     "data": {
      "text/latex": [
       "\\(\\Gamma^{φ}_{φθ} = \\frac{1.0}{\\tan{\\left(θ \\right)}}\\)"
      ],
      "text/plain": [
       "<IPython.core.display.Latex object>"
      ]
     },
     "metadata": {},
     "output_type": "display_data"
    }
   ],
   "source": [
    "t, r, θ, φ, Φ, Λ = symbols('t r θ φ Φ Λ')\n",
    "Φ = Function('Φ')(r) \n",
    "Λ = Function('Λ')(r)\n",
    "\n",
    "metric_tensor = Matrix([[-exp(2*Φ), 0, 0, 0], [0, -exp(2*Λ), 0, 0], [0, 0, r**2, 0], [0, 0, 0, r**2 * sin(θ)**2]])\n",
    "inverse_metric_tensor = metric_tensor.inv()\n",
    "coordinates = [t, r, θ, φ]\n",
    "\n",
    "\n",
    "christoffel_symbols_result = christoffel_symbols(metric_tensor, inverse_metric_tensor, coordinates)\n",
    "\n",
    "# Display the result in LaTeX format using IPython.display.Latex\n",
    "print(\"Christoffel Symbols:\")\n",
    "for i in range(len(coordinates)):\n",
    "    for j in range(len(coordinates)):\n",
    "        for k in range(len(coordinates)):\n",
    "            if christoffel_symbols_result[i][j][k] != 0:\n",
    "                simplified = simplify(christoffel_symbols_result[i][j][k])\n",
    "                symbol_latex = latex(simplified)\n",
    "                display(Latex(f'\\\\(\\\\Gamma^{{{latex(coordinates[i])}}}_{{{latex(coordinates[j])}{latex(coordinates[k])}}} = {symbol_latex}\\\\)'))"
   ]
  },
  {
   "cell_type": "code",
   "execution_count": 5,
   "id": "5197273c-0dcf-4337-a6b9-1f7ea633bb3a",
   "metadata": {},
   "outputs": [
    {
     "data": {
      "text/plain": [
       "'\\nprint(\"Riemann Curvature Tensor Components with Four Lower Indices:\")\\nfor i in range(len(coordinates)):\\n    for j in range(len(coordinates)):\\n        for k in range(len(coordinates)):\\n            for l in range(len(coordinates)):\\n                if riemann_result_lower[i][j][k][l] != 0:\\n                    simplified_component = simplify(riemann_result_lower[i][j][k][l])\\n                    symbol_latex = latex(simplified_component)\\n                    display(Latex(f\\'\\\\(R_{{{latex(coordinates[i])}{latex(coordinates[j])}{latex(coordinates[k])}{latex(coordinates[l])}}} = {symbol_latex}\\\\)\\'))\\n'"
      ]
     },
     "execution_count": 5,
     "metadata": {},
     "output_type": "execute_result"
    }
   ],
   "source": [
    "t, r, θ, φ, Φ, Λ = symbols('t r θ φ Φ Λ')\n",
    "Φ = Function('Φ')(r) \n",
    "Λ = Function('Λ')(r)\n",
    "\n",
    "metric_tensor = Matrix([[-exp(2*Φ), 0, 0, 0], [0, -exp(2*Λ), 0, 0], [0, 0, r**2, 0], [0, 0, 0, r**2 * sin(θ)**2]])\n",
    "inverse_metric_tensor = metric_tensor.inv()\n",
    "coordinates = [t, r, θ, φ]\n",
    "\n",
    "christoffel_results = christoffel_symbols(metric_tensor, inverse_metric_tensor, coordinates)\n",
    "# Calculate Christoffel symbols for specified terms\n",
    "riemann_result_upper = Riemann_from_christoffel(christoffel_results, coordinates)\n",
    "\n",
    "# Display the result in LaTeX format using IPython.display.Latex\n",
    "riemann_result_lower = Riemann_all_lower(metric_tensor, inverse_metric_tensor, riemann_result_upper, coordinates)\n",
    "\"\"\"\n",
    "print(\"Riemann Curvature Tensor Components with Four Lower Indices:\")\n",
    "for i in range(len(coordinates)):\n",
    "    for j in range(len(coordinates)):\n",
    "        for k in range(len(coordinates)):\n",
    "            for l in range(len(coordinates)):\n",
    "                if riemann_result_lower[i][j][k][l] != 0:\n",
    "                    simplified_component = simplify(riemann_result_lower[i][j][k][l])\n",
    "                    symbol_latex = latex(simplified_component)\n",
    "                    display(Latex(f'\\\\(R_{{{latex(coordinates[i])}{latex(coordinates[j])}{latex(coordinates[k])}{latex(coordinates[l])}}} = {symbol_latex}\\\\)'))\n",
    "\"\"\"\n",
    "# this code still isn't matching the answers in the book..."
   ]
  },
  {
   "cell_type": "markdown",
   "id": "cb06f2e5-8c81-47b9-aa35-e1940ae1ceb7",
   "metadata": {},
   "source": [
    "Testing on Schutz Exercise (7.3):\n",
    "\n",
    "The metric given is:\n",
    "\n",
    "$$g_{\\mu\\nu} = \\begin{pmatrix}\n",
    "-(1+2\\phi) & 0 & 0 & 0 \\\\\n",
    "0 & (1-2\\phi) & 0 & 0 \\\\\n",
    "0 & 0 & (1-2\\phi) & 0 \\\\\n",
    "0 & 0 & 0 & (1-2\\phi)\n",
    "\\end{pmatrix}$$\n",
    "\n",
    "The exercise asks for all of the Christoffel symbols to be calculated"
   ]
  },
  {
   "cell_type": "code",
   "execution_count": 10,
   "id": "7626a8e9-b6c5-4d4a-a441-3f602f69b35c",
   "metadata": {},
   "outputs": [
    {
     "name": "stdout",
     "output_type": "stream",
     "text": [
      "Christoffel Symbols:\n"
     ]
    },
    {
     "data": {
      "text/latex": [
       "\\(\\Gamma^{t}_{tx} = \\frac{1.0 \\frac{\\partial}{\\partial x} φ{\\left(x,y,z \\right)}}{2 φ{\\left(x,y,z \\right)} + 1}\\)"
      ],
      "text/plain": [
       "<IPython.core.display.Latex object>"
      ]
     },
     "metadata": {},
     "output_type": "display_data"
    },
    {
     "data": {
      "text/latex": [
       "\\(\\Gamma^{t}_{ty} = \\frac{1.0 \\frac{\\partial}{\\partial y} φ{\\left(x,y,z \\right)}}{2 φ{\\left(x,y,z \\right)} + 1}\\)"
      ],
      "text/plain": [
       "<IPython.core.display.Latex object>"
      ]
     },
     "metadata": {},
     "output_type": "display_data"
    },
    {
     "data": {
      "text/latex": [
       "\\(\\Gamma^{t}_{tz} = \\frac{1.0 \\frac{\\partial}{\\partial z} φ{\\left(x,y,z \\right)}}{2 φ{\\left(x,y,z \\right)} + 1}\\)"
      ],
      "text/plain": [
       "<IPython.core.display.Latex object>"
      ]
     },
     "metadata": {},
     "output_type": "display_data"
    },
    {
     "data": {
      "text/latex": [
       "\\(\\Gamma^{t}_{xt} = \\frac{1.0 \\frac{\\partial}{\\partial x} φ{\\left(x,y,z \\right)}}{2 φ{\\left(x,y,z \\right)} + 1}\\)"
      ],
      "text/plain": [
       "<IPython.core.display.Latex object>"
      ]
     },
     "metadata": {},
     "output_type": "display_data"
    },
    {
     "data": {
      "text/latex": [
       "\\(\\Gamma^{t}_{yt} = \\frac{1.0 \\frac{\\partial}{\\partial y} φ{\\left(x,y,z \\right)}}{2 φ{\\left(x,y,z \\right)} + 1}\\)"
      ],
      "text/plain": [
       "<IPython.core.display.Latex object>"
      ]
     },
     "metadata": {},
     "output_type": "display_data"
    },
    {
     "data": {
      "text/latex": [
       "\\(\\Gamma^{t}_{zt} = \\frac{1.0 \\frac{\\partial}{\\partial z} φ{\\left(x,y,z \\right)}}{2 φ{\\left(x,y,z \\right)} + 1}\\)"
      ],
      "text/plain": [
       "<IPython.core.display.Latex object>"
      ]
     },
     "metadata": {},
     "output_type": "display_data"
    },
    {
     "data": {
      "text/latex": [
       "\\(\\Gamma^{x}_{tt} = - \\frac{1.0 \\frac{\\partial}{\\partial x} φ{\\left(x,y,z \\right)}}{2 φ{\\left(x,y,z \\right)} - 1}\\)"
      ],
      "text/plain": [
       "<IPython.core.display.Latex object>"
      ]
     },
     "metadata": {},
     "output_type": "display_data"
    },
    {
     "data": {
      "text/latex": [
       "\\(\\Gamma^{x}_{xx} = \\frac{1.0 \\frac{\\partial}{\\partial x} φ{\\left(x,y,z \\right)}}{2 φ{\\left(x,y,z \\right)} - 1}\\)"
      ],
      "text/plain": [
       "<IPython.core.display.Latex object>"
      ]
     },
     "metadata": {},
     "output_type": "display_data"
    },
    {
     "data": {
      "text/latex": [
       "\\(\\Gamma^{x}_{xy} = \\frac{1.0 \\frac{\\partial}{\\partial y} φ{\\left(x,y,z \\right)}}{2 φ{\\left(x,y,z \\right)} - 1}\\)"
      ],
      "text/plain": [
       "<IPython.core.display.Latex object>"
      ]
     },
     "metadata": {},
     "output_type": "display_data"
    },
    {
     "data": {
      "text/latex": [
       "\\(\\Gamma^{x}_{xz} = \\frac{1.0 \\frac{\\partial}{\\partial z} φ{\\left(x,y,z \\right)}}{2 φ{\\left(x,y,z \\right)} - 1}\\)"
      ],
      "text/plain": [
       "<IPython.core.display.Latex object>"
      ]
     },
     "metadata": {},
     "output_type": "display_data"
    },
    {
     "data": {
      "text/latex": [
       "\\(\\Gamma^{x}_{yx} = \\frac{1.0 \\frac{\\partial}{\\partial y} φ{\\left(x,y,z \\right)}}{2 φ{\\left(x,y,z \\right)} - 1}\\)"
      ],
      "text/plain": [
       "<IPython.core.display.Latex object>"
      ]
     },
     "metadata": {},
     "output_type": "display_data"
    },
    {
     "data": {
      "text/latex": [
       "\\(\\Gamma^{x}_{yy} = - \\frac{1.0 \\frac{\\partial}{\\partial x} φ{\\left(x,y,z \\right)}}{2 φ{\\left(x,y,z \\right)} - 1}\\)"
      ],
      "text/plain": [
       "<IPython.core.display.Latex object>"
      ]
     },
     "metadata": {},
     "output_type": "display_data"
    },
    {
     "data": {
      "text/latex": [
       "\\(\\Gamma^{x}_{zx} = \\frac{1.0 \\frac{\\partial}{\\partial z} φ{\\left(x,y,z \\right)}}{2 φ{\\left(x,y,z \\right)} - 1}\\)"
      ],
      "text/plain": [
       "<IPython.core.display.Latex object>"
      ]
     },
     "metadata": {},
     "output_type": "display_data"
    },
    {
     "data": {
      "text/latex": [
       "\\(\\Gamma^{x}_{zz} = - \\frac{1.0 \\frac{\\partial}{\\partial x} φ{\\left(x,y,z \\right)}}{2 φ{\\left(x,y,z \\right)} - 1}\\)"
      ],
      "text/plain": [
       "<IPython.core.display.Latex object>"
      ]
     },
     "metadata": {},
     "output_type": "display_data"
    },
    {
     "data": {
      "text/latex": [
       "\\(\\Gamma^{y}_{tt} = - \\frac{1.0 \\frac{\\partial}{\\partial y} φ{\\left(x,y,z \\right)}}{2 φ{\\left(x,y,z \\right)} - 1}\\)"
      ],
      "text/plain": [
       "<IPython.core.display.Latex object>"
      ]
     },
     "metadata": {},
     "output_type": "display_data"
    },
    {
     "data": {
      "text/latex": [
       "\\(\\Gamma^{y}_{xx} = - \\frac{1.0 \\frac{\\partial}{\\partial y} φ{\\left(x,y,z \\right)}}{2 φ{\\left(x,y,z \\right)} - 1}\\)"
      ],
      "text/plain": [
       "<IPython.core.display.Latex object>"
      ]
     },
     "metadata": {},
     "output_type": "display_data"
    },
    {
     "data": {
      "text/latex": [
       "\\(\\Gamma^{y}_{xy} = \\frac{1.0 \\frac{\\partial}{\\partial x} φ{\\left(x,y,z \\right)}}{2 φ{\\left(x,y,z \\right)} - 1}\\)"
      ],
      "text/plain": [
       "<IPython.core.display.Latex object>"
      ]
     },
     "metadata": {},
     "output_type": "display_data"
    },
    {
     "data": {
      "text/latex": [
       "\\(\\Gamma^{y}_{yx} = \\frac{1.0 \\frac{\\partial}{\\partial x} φ{\\left(x,y,z \\right)}}{2 φ{\\left(x,y,z \\right)} - 1}\\)"
      ],
      "text/plain": [
       "<IPython.core.display.Latex object>"
      ]
     },
     "metadata": {},
     "output_type": "display_data"
    },
    {
     "data": {
      "text/latex": [
       "\\(\\Gamma^{y}_{yy} = \\frac{1.0 \\frac{\\partial}{\\partial y} φ{\\left(x,y,z \\right)}}{2 φ{\\left(x,y,z \\right)} - 1}\\)"
      ],
      "text/plain": [
       "<IPython.core.display.Latex object>"
      ]
     },
     "metadata": {},
     "output_type": "display_data"
    },
    {
     "data": {
      "text/latex": [
       "\\(\\Gamma^{y}_{yz} = \\frac{1.0 \\frac{\\partial}{\\partial z} φ{\\left(x,y,z \\right)}}{2 φ{\\left(x,y,z \\right)} - 1}\\)"
      ],
      "text/plain": [
       "<IPython.core.display.Latex object>"
      ]
     },
     "metadata": {},
     "output_type": "display_data"
    },
    {
     "data": {
      "text/latex": [
       "\\(\\Gamma^{y}_{zy} = \\frac{1.0 \\frac{\\partial}{\\partial z} φ{\\left(x,y,z \\right)}}{2 φ{\\left(x,y,z \\right)} - 1}\\)"
      ],
      "text/plain": [
       "<IPython.core.display.Latex object>"
      ]
     },
     "metadata": {},
     "output_type": "display_data"
    },
    {
     "data": {
      "text/latex": [
       "\\(\\Gamma^{y}_{zz} = - \\frac{1.0 \\frac{\\partial}{\\partial y} φ{\\left(x,y,z \\right)}}{2 φ{\\left(x,y,z \\right)} - 1}\\)"
      ],
      "text/plain": [
       "<IPython.core.display.Latex object>"
      ]
     },
     "metadata": {},
     "output_type": "display_data"
    },
    {
     "data": {
      "text/latex": [
       "\\(\\Gamma^{z}_{tt} = - \\frac{1.0 \\frac{\\partial}{\\partial z} φ{\\left(x,y,z \\right)}}{2 φ{\\left(x,y,z \\right)} - 1}\\)"
      ],
      "text/plain": [
       "<IPython.core.display.Latex object>"
      ]
     },
     "metadata": {},
     "output_type": "display_data"
    },
    {
     "data": {
      "text/latex": [
       "\\(\\Gamma^{z}_{xx} = - \\frac{1.0 \\frac{\\partial}{\\partial z} φ{\\left(x,y,z \\right)}}{2 φ{\\left(x,y,z \\right)} - 1}\\)"
      ],
      "text/plain": [
       "<IPython.core.display.Latex object>"
      ]
     },
     "metadata": {},
     "output_type": "display_data"
    },
    {
     "data": {
      "text/latex": [
       "\\(\\Gamma^{z}_{xz} = \\frac{1.0 \\frac{\\partial}{\\partial x} φ{\\left(x,y,z \\right)}}{2 φ{\\left(x,y,z \\right)} - 1}\\)"
      ],
      "text/plain": [
       "<IPython.core.display.Latex object>"
      ]
     },
     "metadata": {},
     "output_type": "display_data"
    },
    {
     "data": {
      "text/latex": [
       "\\(\\Gamma^{z}_{yy} = - \\frac{1.0 \\frac{\\partial}{\\partial z} φ{\\left(x,y,z \\right)}}{2 φ{\\left(x,y,z \\right)} - 1}\\)"
      ],
      "text/plain": [
       "<IPython.core.display.Latex object>"
      ]
     },
     "metadata": {},
     "output_type": "display_data"
    },
    {
     "data": {
      "text/latex": [
       "\\(\\Gamma^{z}_{yz} = \\frac{1.0 \\frac{\\partial}{\\partial y} φ{\\left(x,y,z \\right)}}{2 φ{\\left(x,y,z \\right)} - 1}\\)"
      ],
      "text/plain": [
       "<IPython.core.display.Latex object>"
      ]
     },
     "metadata": {},
     "output_type": "display_data"
    },
    {
     "data": {
      "text/latex": [
       "\\(\\Gamma^{z}_{zx} = \\frac{1.0 \\frac{\\partial}{\\partial x} φ{\\left(x,y,z \\right)}}{2 φ{\\left(x,y,z \\right)} - 1}\\)"
      ],
      "text/plain": [
       "<IPython.core.display.Latex object>"
      ]
     },
     "metadata": {},
     "output_type": "display_data"
    },
    {
     "data": {
      "text/latex": [
       "\\(\\Gamma^{z}_{zy} = \\frac{1.0 \\frac{\\partial}{\\partial y} φ{\\left(x,y,z \\right)}}{2 φ{\\left(x,y,z \\right)} - 1}\\)"
      ],
      "text/plain": [
       "<IPython.core.display.Latex object>"
      ]
     },
     "metadata": {},
     "output_type": "display_data"
    },
    {
     "data": {
      "text/latex": [
       "\\(\\Gamma^{z}_{zz} = \\frac{1.0 \\frac{\\partial}{\\partial z} φ{\\left(x,y,z \\right)}}{2 φ{\\left(x,y,z \\right)} - 1}\\)"
      ],
      "text/plain": [
       "<IPython.core.display.Latex object>"
      ]
     },
     "metadata": {},
     "output_type": "display_data"
    }
   ],
   "source": [
    "t, x, y, z, φ = symbols('t x y z φ')\n",
    "φ = Function('φ')(x,y,z) \n",
    "\n",
    "\n",
    "metric_tensor = Matrix([[-(1+2*φ), 0, 0, 0], [0, (1-2*φ), 0, 0], [0, 0, (1-2*φ), 0], [0, 0, 0, (1-2*φ)]])\n",
    "inverse_metric_tensor = metric_tensor.inv()\n",
    "coordinates = [t, x, y, z]\n",
    "\n",
    "\n",
    "christoffel_symbols_result = christoffel_symbols(metric_tensor, inverse_metric_tensor, coordinates)\n",
    "\n",
    "# Display the result in LaTeX format using IPython.display.Latex\n",
    "print(\"Christoffel Symbols:\")\n",
    "for i in range(len(coordinates)):\n",
    "    for j in range(len(coordinates)):\n",
    "        for k in range(len(coordinates)):\n",
    "            if christoffel_symbols_result[i][j][k] != 0:\n",
    "                simplified = simplify(christoffel_symbols_result[i][j][k])\n",
    "                symbol_latex = latex(simplified)\n",
    "                display(Latex(f'\\\\(\\\\Gamma^{{{latex(coordinates[i])}}}_{{{latex(coordinates[j])}{latex(coordinates[k])}}} = {symbol_latex}\\\\)'))"
   ]
  },
  {
   "cell_type": "code",
   "execution_count": null,
   "id": "6ac1a486-d103-4748-97a5-0e71961d2571",
   "metadata": {},
   "outputs": [],
   "source": []
  },
  {
   "cell_type": "code",
   "execution_count": null,
   "id": "4ae2e26a-0649-42ed-b3df-45f1c9e4f53a",
   "metadata": {},
   "outputs": [],
   "source": []
  },
  {
   "cell_type": "code",
   "execution_count": null,
   "id": "1a9785ef-7d02-489b-9c60-c4a052f7456b",
   "metadata": {},
   "outputs": [],
   "source": []
  },
  {
   "cell_type": "code",
   "execution_count": null,
   "id": "c9d3a9b4-cd7b-48fc-8122-6b752508d856",
   "metadata": {},
   "outputs": [],
   "source": []
  },
  {
   "cell_type": "code",
   "execution_count": null,
   "id": "cb54efce-b301-49af-9acc-2f8c0c6d8498",
   "metadata": {},
   "outputs": [],
   "source": []
  }
 ],
 "metadata": {
  "kernelspec": {
   "display_name": "Python 3 (ipykernel)",
   "language": "python",
   "name": "python3"
  },
  "language_info": {
   "codemirror_mode": {
    "name": "ipython",
    "version": 3
   },
   "file_extension": ".py",
   "mimetype": "text/x-python",
   "name": "python",
   "nbconvert_exporter": "python",
   "pygments_lexer": "ipython3",
   "version": "3.11.4"
  }
 },
 "nbformat": 4,
 "nbformat_minor": 5
}
