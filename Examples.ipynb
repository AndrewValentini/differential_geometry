{
 "cells": [
  {
   "cell_type": "code",
   "execution_count": 31,
   "id": "239580fe-98c0-4e10-b1da-96fcb56ef23d",
   "metadata": {},
   "outputs": [
    {
     "ename": "ImportError",
     "evalue": "cannot import name 'Ricci_tensor' from 'definitions' (/Users/andrewvalentini/Documents/GitHub/differential_geometry_solvers/definitions.py)",
     "output_type": "error",
     "traceback": [
      "\u001b[0;31m---------------------------------------------------------------------------\u001b[0m",
      "\u001b[0;31mImportError\u001b[0m                               Traceback (most recent call last)",
      "Cell \u001b[0;32mIn[31], line 4\u001b[0m\n\u001b[1;32m      1\u001b[0m \u001b[38;5;28;01mfrom\u001b[39;00m \u001b[38;5;21;01msympy\u001b[39;00m \u001b[38;5;28;01mimport\u001b[39;00m \u001b[38;5;241m*\u001b[39m\n\u001b[1;32m      2\u001b[0m \u001b[38;5;28;01mfrom\u001b[39;00m \u001b[38;5;21;01mIPython\u001b[39;00m\u001b[38;5;21;01m.\u001b[39;00m\u001b[38;5;21;01mdisplay\u001b[39;00m \u001b[38;5;28;01mimport\u001b[39;00m display, Latex\n\u001b[0;32m----> 4\u001b[0m \u001b[38;5;28;01mfrom\u001b[39;00m \u001b[38;5;21;01mdefinitions\u001b[39;00m \u001b[38;5;28;01mimport\u001b[39;00m christoffel_symbols, Riemann, Ricci_tensor\n",
      "\u001b[0;31mImportError\u001b[0m: cannot import name 'Ricci_tensor' from 'definitions' (/Users/andrewvalentini/Documents/GitHub/differential_geometry_solvers/definitions.py)"
     ]
    }
   ],
   "source": [
    "from sympy import *\n",
    "from IPython.display import display, Latex\n",
    "\n",
    "from definitions import christoffel_symbols, Riemann, Ricci_tensor"
   ]
  },
  {
   "cell_type": "markdown",
   "id": "b85eb2df-55f3-4459-b664-7b90e845f63c",
   "metadata": {},
   "source": [
    "## Flat Spacetime"
   ]
  },
  {
   "cell_type": "code",
   "execution_count": 15,
   "id": "fb921d28-04df-4b1c-ae67-e2ca922d3d7d",
   "metadata": {},
   "outputs": [
    {
     "name": "stdout",
     "output_type": "stream",
     "text": [
      "Christoffel Symbols:\n"
     ]
    }
   ],
   "source": [
    "t, x, y, z = symbols('t x y z')\n",
    "metric_tensor = Matrix([[-1, 0, 0, 0], [0, 1, 0, 0], [0,0,1,0], [0,0,0,1]])\n",
    "inverse_metric_tensor = metric_tensor.inv()\n",
    "coordinates = [t, x, y, z]\n",
    "\n",
    "# Calculate Christoffel symbols for specified terms\n",
    "christoffel_symbols_result = christoffel_symbols(metric_tensor, inverse_metric_tensor, coordinates)\n",
    "\n",
    "# Display the result in LaTeX format using IPython.display.Latex\n",
    "print(\"Christoffel Symbols:\")\n",
    "for i in range(len(coordinates)):\n",
    "    for j in range(len(coordinates)):\n",
    "        for k in range(len(coordinates)):\n",
    "            if christoffel_symbols_result[i][j][k] != 0:\n",
    "                simplified = simplify(christoffel_symbols_result[i][j][k])\n",
    "                symbol_latex = latex(simplified)\n",
    "                display(Latex(f'\\\\(\\\\Gamma^{{{latex(coordinates[i])}}}_{{{latex(coordinates[j])}{latex(coordinates[k])}}} = {symbol_latex}\\\\)'))\n",
    "\n",
    "# Greek Symbols: α, β, γ, δ, ε, ζ, η, θ, ι, κ, λ, μ, ν, ξ, ο, π, ρ, σ, τ, υ, φ, χ, ψ, ω,\n",
    "#                 Α, Β, Γ, Δ, Ε, Ζ, Η, Θ, Ι, Κ, Λ, Μ, Ν, Ξ, Ο, Π, Ρ, Σ, Τ, Υ, Φ, Χ, Ψ, Ω\n"
   ]
  },
  {
   "cell_type": "code",
   "execution_count": 16,
   "id": "20a4a11e-bc97-4f0b-a762-bba34358c035",
   "metadata": {},
   "outputs": [
    {
     "name": "stdout",
     "output_type": "stream",
     "text": [
      "Riemann Curvature Tensor Components:\n"
     ]
    }
   ],
   "source": [
    "t,x,y,z = symbols('t x y z')\n",
    "metric_tensor = Matrix([[-1, 0, 0, 0], [0, 1, 0, 0], [0,0,1,0], [0,0,0,1]])\n",
    "inverse_metric_tensor = metric_tensor.inv()\n",
    "coordinates = [t, x, y, z]\n",
    "\n",
    "# Calculate Christoffel symbols for specified terms\n",
    "Riemann_result = Riemann(metric_tensor, inverse_metric_tensor, coordinates)\n",
    "\n",
    "# Display the result in LaTeX format using IPython.display.Latex\n",
    "\n",
    "print(\"Riemann Curvature Tensor Components:\")\n",
    "for i in range(len(coordinates)):\n",
    "    for j in range(len(coordinates)):\n",
    "        for k in range(len(coordinates)):\n",
    "            for l in range(len(coordinates)):\n",
    "                if Riemann_result[i][j][k][l] != 0:\n",
    "                    simplified_component = simplify(Riemann_result[i][j][k][l])\n",
    "                    symbol_latex = latex(simplified_component)\n",
    "                    display(Latex(f'\\\\(R^{{{latex(coordinates[i])}}}_{{{latex(coordinates[j])}{latex(coordinates[k])}{latex(coordinates[l])}}} = {symbol_latex}\\\\)'))\n",
    "                    \n",
    "# Greek Symbols: α, β, γ, δ, ε, ζ, η, θ, ι, κ, λ, μ, ν, ξ, ο, π, ρ, σ, τ, υ, φ, χ, ψ, ω,\n",
    "#                 Α, Β, Γ, Δ, Ε, Ζ, Η, Θ, Ι, Κ, Λ, Μ, Ν, Ξ, Ο, Π, Ρ, Σ, Τ, Υ, Φ, Χ, Ψ, Ω\n"
   ]
  },
  {
   "cell_type": "markdown",
   "id": "a2498d23-53b7-4607-abdf-59e959a33d4c",
   "metadata": {},
   "source": [
    "## Polar Coordinates"
   ]
  },
  {
   "cell_type": "code",
   "execution_count": 17,
   "id": "f9a1c467-1bc7-4402-a5e7-4630b27d6c6c",
   "metadata": {},
   "outputs": [
    {
     "name": "stdout",
     "output_type": "stream",
     "text": [
      "Christoffel Symbols:\n"
     ]
    },
    {
     "data": {
      "text/latex": [
       "\\(\\Gamma^{r}_{θθ} = - 1.0 r\\)"
      ],
      "text/plain": [
       "<IPython.core.display.Latex object>"
      ]
     },
     "metadata": {},
     "output_type": "display_data"
    },
    {
     "data": {
      "text/latex": [
       "\\(\\Gamma^{θ}_{rθ} = \\frac{1.0}{r}\\)"
      ],
      "text/plain": [
       "<IPython.core.display.Latex object>"
      ]
     },
     "metadata": {},
     "output_type": "display_data"
    },
    {
     "data": {
      "text/latex": [
       "\\(\\Gamma^{θ}_{θr} = \\frac{1.0}{r}\\)"
      ],
      "text/plain": [
       "<IPython.core.display.Latex object>"
      ]
     },
     "metadata": {},
     "output_type": "display_data"
    }
   ],
   "source": [
    "r, θ = symbols('r, θ')\n",
    "metric_tensor = Matrix([[1,0], [0,r**2]])\n",
    "inverse_metric_tensor = metric_tensor.inv()\n",
    "coordinates = [r, θ]\n",
    "\n",
    "# Calculate Christoffel symbols for specified terms\n",
    "christoffel_symbols_result = christoffel_symbols(metric_tensor, inverse_metric_tensor, coordinates)\n",
    "\n",
    "# Display the result in LaTeX format using IPython.display.Latex\n",
    "print(\"Christoffel Symbols:\")\n",
    "for i in range(len(coordinates)):\n",
    "    for j in range(len(coordinates)):\n",
    "        for k in range(len(coordinates)):\n",
    "            if christoffel_symbols_result[i][j][k] != 0:\n",
    "                simplified = simplify(christoffel_symbols_result[i][j][k])\n",
    "                symbol_latex = latex(simplified)\n",
    "                display(Latex(f'\\\\(\\\\Gamma^{{{latex(coordinates[i])}}}_{{{latex(coordinates[j])}{latex(coordinates[k])}}} = {symbol_latex}\\\\)'))\n",
    "\n",
    "# Greek Symbols: α, β, γ, δ, ε, ζ, η, θ, ι, κ, λ, μ, ν, ξ, ο, π, ρ, σ, τ, υ, φ, χ, ψ, ω,\n",
    "#                 Α, Β, Γ, Δ, Ε, Ζ, Η, Θ, Ι, Κ, Λ, Μ, Ν, Ξ, Ο, Π, Ρ, Σ, Τ, Υ, Φ, Χ, Ψ, Ω\n"
   ]
  },
  {
   "cell_type": "code",
   "execution_count": 18,
   "id": "84724bfd-8941-4c38-bf4d-869f67a9fe17",
   "metadata": {},
   "outputs": [
    {
     "name": "stdout",
     "output_type": "stream",
     "text": [
      "Riemann Curvature Tensor Components:\n"
     ]
    },
    {
     "data": {
      "text/latex": [
       "\\(R^{r}_{θrθ} = -1.0\\)"
      ],
      "text/plain": [
       "<IPython.core.display.Latex object>"
      ]
     },
     "metadata": {},
     "output_type": "display_data"
    },
    {
     "data": {
      "text/latex": [
       "\\(R^{r}_{θθr} = 1.0\\)"
      ],
      "text/plain": [
       "<IPython.core.display.Latex object>"
      ]
     },
     "metadata": {},
     "output_type": "display_data"
    },
    {
     "data": {
      "text/latex": [
       "\\(R^{θ}_{rrθ} = \\frac{1.0}{r^{2}}\\)"
      ],
      "text/plain": [
       "<IPython.core.display.Latex object>"
      ]
     },
     "metadata": {},
     "output_type": "display_data"
    },
    {
     "data": {
      "text/latex": [
       "\\(R^{θ}_{rθr} = - \\frac{1.0}{r^{2}}\\)"
      ],
      "text/plain": [
       "<IPython.core.display.Latex object>"
      ]
     },
     "metadata": {},
     "output_type": "display_data"
    }
   ],
   "source": [
    "r, θ = symbols('r, θ')\n",
    "metric_tensor = Matrix([[1,0], [0,r**2]])\n",
    "inverse_metric_tensor = metric_tensor.inv()\n",
    "coordinates = [r, θ]\n",
    "\n",
    "# Calculate Christoffel symbols for specified terms\n",
    "Riemann_result = Riemann(metric_tensor, inverse_metric_tensor, coordinates)\n",
    "\n",
    "# Display the result in LaTeX format using IPython.display.Latex\n",
    "\n",
    "print(\"Riemann Curvature Tensor Components:\")\n",
    "for i in range(len(coordinates)):\n",
    "    for j in range(len(coordinates)):\n",
    "        for k in range(len(coordinates)):\n",
    "            for l in range(len(coordinates)):\n",
    "                if Riemann_result[i][j][k][l] != 0:\n",
    "                    simplified_component = simplify(Riemann_result[i][j][k][l])\n",
    "                    symbol_latex = latex(simplified_component)\n",
    "                    display(Latex(f'\\\\(R^{{{latex(coordinates[i])}}}_{{{latex(coordinates[j])}{latex(coordinates[k])}{latex(coordinates[l])}}} = {symbol_latex}\\\\)'))\n",
    "                    \n",
    "# Greek Symbols: α, β, γ, δ, ε, ζ, η, θ, ι, κ, λ, μ, ν, ξ, ο, π, ρ, σ, τ, υ, φ, χ, ψ, ω,\n",
    "#                 Α, Β, Γ, Δ, Ε, Ζ, Η, Θ, Ι, Κ, Λ, Μ, Ν, Ξ, Ο, Π, Ρ, Σ, Τ, Υ, Φ, Χ, Ψ, Ω\n"
   ]
  },
  {
   "cell_type": "code",
   "execution_count": null,
   "id": "c3cd92d8-59ba-4bb5-a967-faa38b264c11",
   "metadata": {},
   "outputs": [],
   "source": []
  },
  {
   "cell_type": "code",
   "execution_count": null,
   "id": "f6bb77da-6b88-4adf-a0e6-eccae6904049",
   "metadata": {},
   "outputs": [],
   "source": []
  },
  {
   "cell_type": "code",
   "execution_count": null,
   "id": "28ee6fdf-5f59-4d68-8cc2-bd14e163344c",
   "metadata": {},
   "outputs": [],
   "source": []
  },
  {
   "cell_type": "code",
   "execution_count": null,
   "id": "acdcd2b7-bbae-48c5-944b-093d5a2a16ef",
   "metadata": {},
   "outputs": [],
   "source": []
  }
 ],
 "metadata": {
  "kernelspec": {
   "display_name": "Python 3 (ipykernel)",
   "language": "python",
   "name": "python3"
  },
  "language_info": {
   "codemirror_mode": {
    "name": "ipython",
    "version": 3
   },
   "file_extension": ".py",
   "mimetype": "text/x-python",
   "name": "python",
   "nbconvert_exporter": "python",
   "pygments_lexer": "ipython3",
   "version": "3.11.4"
  }
 },
 "nbformat": 4,
 "nbformat_minor": 5
}
