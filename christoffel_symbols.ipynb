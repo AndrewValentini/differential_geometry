{
 "cells": [
  {
   "cell_type": "code",
   "execution_count": 105,
   "id": "f7e694e3-835d-404b-a65f-c1c822d86348",
   "metadata": {},
   "outputs": [],
   "source": [
    "from sympy import *\n",
    "from IPython.display import display, Latex"
   ]
  },
  {
   "cell_type": "markdown",
   "id": "46fd733f-4234-4ef5-b9b9-d7f2818fdf24",
   "metadata": {},
   "source": [
    "I want to see if I can first make code to solve Christoffel symbols"
   ]
  },
  {
   "cell_type": "code",
   "execution_count": 107,
   "id": "7f7af5da-8a3f-4d53-aa59-1553495802c9",
   "metadata": {},
   "outputs": [],
   "source": [
    "# Initialize LaTeX printing\n",
    "init_printing()\n",
    "\n",
    "def christoffel_symbols(metric_tensor, inverse_metric_tensor, coordinates):\n",
    "    num_coords = len(coordinates)\n",
    "    christoffel = [[[0 for _ in range(num_coords)] for _ in range(num_coords)] for _ in range(num_coords)]\n",
    "\n",
    "    for i in range(num_coords):\n",
    "        for j in range(num_coords):\n",
    "            for k in range(num_coords):\n",
    "                sum_term = 0.0\n",
    "                for l in range(num_coords):\n",
    "                    term1 = 0.5 * inverse_metric_tensor[i, l] * (\n",
    "                        diff(metric_tensor[l, j], coordinates[k]) +\n",
    "                        diff(metric_tensor[l, k], coordinates[j]) -\n",
    "                        diff(metric_tensor[j, k], coordinates[l])\n",
    "                    )\n",
    "                    sum_term += term1\n",
    "                christoffel[i][j][k] = sum_term\n",
    "\n",
    "    return christoffel"
   ]
  },
  {
   "cell_type": "code",
   "execution_count": 108,
   "id": "4f313f5f-54d4-4b63-aff8-d6aff4369342",
   "metadata": {},
   "outputs": [
    {
     "name": "stdout",
     "output_type": "stream",
     "text": [
      "Christoffel Symbols:\n"
     ]
    },
    {
     "data": {
      "text/latex": [
       "\\(\\Gamma^{r}_{rr} = 0\\)"
      ],
      "text/plain": [
       "<IPython.core.display.Latex object>"
      ]
     },
     "metadata": {},
     "output_type": "display_data"
    },
    {
     "data": {
      "text/latex": [
       "\\(\\Gamma^{r}_{rθ} = 0\\)"
      ],
      "text/plain": [
       "<IPython.core.display.Latex object>"
      ]
     },
     "metadata": {},
     "output_type": "display_data"
    },
    {
     "data": {
      "text/latex": [
       "\\(\\Gamma^{r}_{rφ} = 0\\)"
      ],
      "text/plain": [
       "<IPython.core.display.Latex object>"
      ]
     },
     "metadata": {},
     "output_type": "display_data"
    },
    {
     "data": {
      "text/latex": [
       "\\(\\Gamma^{r}_{θr} = 0\\)"
      ],
      "text/plain": [
       "<IPython.core.display.Latex object>"
      ]
     },
     "metadata": {},
     "output_type": "display_data"
    },
    {
     "data": {
      "text/latex": [
       "\\(\\Gamma^{r}_{θθ} = - 1.0 r\\)"
      ],
      "text/plain": [
       "<IPython.core.display.Latex object>"
      ]
     },
     "metadata": {},
     "output_type": "display_data"
    },
    {
     "data": {
      "text/latex": [
       "\\(\\Gamma^{r}_{θφ} = 0\\)"
      ],
      "text/plain": [
       "<IPython.core.display.Latex object>"
      ]
     },
     "metadata": {},
     "output_type": "display_data"
    },
    {
     "data": {
      "text/latex": [
       "\\(\\Gamma^{r}_{φr} = 0\\)"
      ],
      "text/plain": [
       "<IPython.core.display.Latex object>"
      ]
     },
     "metadata": {},
     "output_type": "display_data"
    },
    {
     "data": {
      "text/latex": [
       "\\(\\Gamma^{r}_{φθ} = 0\\)"
      ],
      "text/plain": [
       "<IPython.core.display.Latex object>"
      ]
     },
     "metadata": {},
     "output_type": "display_data"
    },
    {
     "data": {
      "text/latex": [
       "\\(\\Gamma^{r}_{φφ} = - 1.0 r \\sin^{2}{\\left(θ \\right)}\\)"
      ],
      "text/plain": [
       "<IPython.core.display.Latex object>"
      ]
     },
     "metadata": {},
     "output_type": "display_data"
    },
    {
     "data": {
      "text/latex": [
       "\\(\\Gamma^{θ}_{rr} = 0\\)"
      ],
      "text/plain": [
       "<IPython.core.display.Latex object>"
      ]
     },
     "metadata": {},
     "output_type": "display_data"
    },
    {
     "data": {
      "text/latex": [
       "\\(\\Gamma^{θ}_{rθ} = \\frac{1.0}{r}\\)"
      ],
      "text/plain": [
       "<IPython.core.display.Latex object>"
      ]
     },
     "metadata": {},
     "output_type": "display_data"
    },
    {
     "data": {
      "text/latex": [
       "\\(\\Gamma^{θ}_{rφ} = 0\\)"
      ],
      "text/plain": [
       "<IPython.core.display.Latex object>"
      ]
     },
     "metadata": {},
     "output_type": "display_data"
    },
    {
     "data": {
      "text/latex": [
       "\\(\\Gamma^{θ}_{θr} = \\frac{1.0}{r}\\)"
      ],
      "text/plain": [
       "<IPython.core.display.Latex object>"
      ]
     },
     "metadata": {},
     "output_type": "display_data"
    },
    {
     "data": {
      "text/latex": [
       "\\(\\Gamma^{θ}_{θθ} = 0\\)"
      ],
      "text/plain": [
       "<IPython.core.display.Latex object>"
      ]
     },
     "metadata": {},
     "output_type": "display_data"
    },
    {
     "data": {
      "text/latex": [
       "\\(\\Gamma^{θ}_{θφ} = 0\\)"
      ],
      "text/plain": [
       "<IPython.core.display.Latex object>"
      ]
     },
     "metadata": {},
     "output_type": "display_data"
    },
    {
     "data": {
      "text/latex": [
       "\\(\\Gamma^{θ}_{φr} = 0\\)"
      ],
      "text/plain": [
       "<IPython.core.display.Latex object>"
      ]
     },
     "metadata": {},
     "output_type": "display_data"
    },
    {
     "data": {
      "text/latex": [
       "\\(\\Gamma^{θ}_{φθ} = 0\\)"
      ],
      "text/plain": [
       "<IPython.core.display.Latex object>"
      ]
     },
     "metadata": {},
     "output_type": "display_data"
    },
    {
     "data": {
      "text/latex": [
       "\\(\\Gamma^{θ}_{φφ} = - 1.0 \\sin{\\left(θ \\right)} \\cos{\\left(θ \\right)}\\)"
      ],
      "text/plain": [
       "<IPython.core.display.Latex object>"
      ]
     },
     "metadata": {},
     "output_type": "display_data"
    },
    {
     "data": {
      "text/latex": [
       "\\(\\Gamma^{φ}_{rr} = 0\\)"
      ],
      "text/plain": [
       "<IPython.core.display.Latex object>"
      ]
     },
     "metadata": {},
     "output_type": "display_data"
    },
    {
     "data": {
      "text/latex": [
       "\\(\\Gamma^{φ}_{rθ} = 0\\)"
      ],
      "text/plain": [
       "<IPython.core.display.Latex object>"
      ]
     },
     "metadata": {},
     "output_type": "display_data"
    },
    {
     "data": {
      "text/latex": [
       "\\(\\Gamma^{φ}_{rφ} = \\frac{1.0}{r}\\)"
      ],
      "text/plain": [
       "<IPython.core.display.Latex object>"
      ]
     },
     "metadata": {},
     "output_type": "display_data"
    },
    {
     "data": {
      "text/latex": [
       "\\(\\Gamma^{φ}_{θr} = 0\\)"
      ],
      "text/plain": [
       "<IPython.core.display.Latex object>"
      ]
     },
     "metadata": {},
     "output_type": "display_data"
    },
    {
     "data": {
      "text/latex": [
       "\\(\\Gamma^{φ}_{θθ} = 0\\)"
      ],
      "text/plain": [
       "<IPython.core.display.Latex object>"
      ]
     },
     "metadata": {},
     "output_type": "display_data"
    },
    {
     "data": {
      "text/latex": [
       "\\(\\Gamma^{φ}_{θφ} = \\frac{1.0 \\cos{\\left(θ \\right)}}{\\sin{\\left(θ \\right)}}\\)"
      ],
      "text/plain": [
       "<IPython.core.display.Latex object>"
      ]
     },
     "metadata": {},
     "output_type": "display_data"
    },
    {
     "data": {
      "text/latex": [
       "\\(\\Gamma^{φ}_{φr} = \\frac{1.0}{r}\\)"
      ],
      "text/plain": [
       "<IPython.core.display.Latex object>"
      ]
     },
     "metadata": {},
     "output_type": "display_data"
    },
    {
     "data": {
      "text/latex": [
       "\\(\\Gamma^{φ}_{φθ} = \\frac{1.0 \\cos{\\left(θ \\right)}}{\\sin{\\left(θ \\right)}}\\)"
      ],
      "text/plain": [
       "<IPython.core.display.Latex object>"
      ]
     },
     "metadata": {},
     "output_type": "display_data"
    },
    {
     "data": {
      "text/latex": [
       "\\(\\Gamma^{φ}_{φφ} = 0\\)"
      ],
      "text/plain": [
       "<IPython.core.display.Latex object>"
      ]
     },
     "metadata": {},
     "output_type": "display_data"
    }
   ],
   "source": [
    "# Example usage:\n",
    "# Define your metric tensor and coordinates\n",
    "# For example, consider 3D space with coordinates (r, θ, φ)\n",
    "r, θ, φ = symbols('r θ φ')\n",
    "metric_tensor = Matrix([[1, 0, 0], [0, r**2, 0], [0, 0, r**2 * sin(θ)**2]])\n",
    "inverse_metric_tensor = metric_tensor.inv()\n",
    "coordinates = [r, θ, φ]\n",
    "\n",
    "# Calculate Christoffel symbols for specified terms\n",
    "christoffel_symbols_result = christoffel_symbols(metric_tensor, inverse_metric_tensor, coordinates)\n",
    "\n",
    "# Display the result in LaTeX format using IPython.display.Latex\n",
    "print(\"Christoffel Symbols:\")\n",
    "for i in range(len(coordinates)):\n",
    "    for j in range(len(coordinates)):\n",
    "        for k in range(len(coordinates)):\n",
    "            symbol_latex = latex(christoffel_symbols_result[i][j][k])\n",
    "            display(Latex(f'\\\\(\\\\Gamma^{{{latex(coordinates[i])}}}_{{{latex(coordinates[j])}{latex(coordinates[k])}}} = {symbol_latex}\\\\)'))\n",
    "\n",
    "# Greek Symbols: α, β, γ, δ, ε, ζ, η, θ, ι, κ, λ, μ, ν, ξ, ο, π, ρ, σ, τ, υ, φ, χ, ψ, ω,\n",
    "#                 Α, Β, Γ, Δ, Ε, Ζ, Η, Θ, Ι, Κ, Λ, Μ, Ν, Ξ, Ο, Π, Ρ, Σ, Τ, Υ, Φ, Χ, Ψ, Ω\n"
   ]
  },
  {
   "cell_type": "code",
   "execution_count": null,
   "id": "f5f6fe4c-d376-4403-80cc-d36d6073ceea",
   "metadata": {},
   "outputs": [],
   "source": []
  },
  {
   "cell_type": "code",
   "execution_count": null,
   "id": "9562f5b9-a8ed-4da9-b1f8-38d6505907b8",
   "metadata": {},
   "outputs": [],
   "source": []
  },
  {
   "cell_type": "code",
   "execution_count": null,
   "id": "dd0e8771-caba-4b39-b13c-221a6116b389",
   "metadata": {},
   "outputs": [],
   "source": []
  },
  {
   "cell_type": "code",
   "execution_count": null,
   "id": "48d81496-6408-4ff0-b867-486b36c1ada8",
   "metadata": {},
   "outputs": [],
   "source": []
  },
  {
   "cell_type": "code",
   "execution_count": null,
   "id": "d094d345-7f7e-4931-ba35-188911b9bf43",
   "metadata": {},
   "outputs": [],
   "source": []
  },
  {
   "cell_type": "code",
   "execution_count": null,
   "id": "70693cf8-f903-45e8-8a42-572f31285bdb",
   "metadata": {},
   "outputs": [],
   "source": []
  },
  {
   "cell_type": "code",
   "execution_count": null,
   "id": "d1eb3aaa-20d9-49e4-b9ed-fc9537164c8b",
   "metadata": {},
   "outputs": [],
   "source": []
  },
  {
   "cell_type": "code",
   "execution_count": null,
   "id": "334e433e-8159-44ed-bc78-9b7fd5b61791",
   "metadata": {},
   "outputs": [],
   "source": []
  }
 ],
 "metadata": {
  "kernelspec": {
   "display_name": "Python 3 (ipykernel)",
   "language": "python",
   "name": "python3"
  },
  "language_info": {
   "codemirror_mode": {
    "name": "ipython",
    "version": 3
   },
   "file_extension": ".py",
   "mimetype": "text/x-python",
   "name": "python",
   "nbconvert_exporter": "python",
   "pygments_lexer": "ipython3",
   "version": "3.11.4"
  }
 },
 "nbformat": 4,
 "nbformat_minor": 5
}
