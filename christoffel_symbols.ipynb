{
 "cells": [
  {
   "cell_type": "code",
   "execution_count": 4,
   "id": "f7e694e3-835d-404b-a65f-c1c822d86348",
   "metadata": {},
   "outputs": [],
   "source": [
    "from sympy import *\n",
    "from IPython.display import display, Latex"
   ]
  },
  {
   "cell_type": "markdown",
   "id": "0d1be59a-ae49-4725-b862-18d71d9f38ea",
   "metadata": {},
   "source": [
    "I want to see if I can first make code to solve Christoffel symbols"
   ]
  },
  {
   "cell_type": "markdown",
   "id": "d2897ba2-f3dd-42cf-a68f-80a3e8271504",
   "metadata": {},
   "source": [
    "The Christoffel symbols are defined by:\n",
    "\n",
    "$$\\Gamma_{\\alpha \\beta}^{\\mu} = \\frac{1}{2}g^{\\mu \\lambda}\\left(\\frac{\\partial g_{\\alpha\\lambda}}{\\partial x^{\\beta}}+ \\frac{\\partial g_{\\lambda \\beta}}{\\partial x^{\\alpha}} - \\frac{\\partial g_{\\alpha\\beta}}{\\partial x^{\\lambda}}\\right)$$"
   ]
  },
  {
   "cell_type": "markdown",
   "id": "bfbc2308-8965-4805-b89a-3258c5633bb1",
   "metadata": {},
   "source": [
    "Note:\n",
    "\n",
    "For the code below, I have used the following mapping for the indices:\n",
    "\n",
    "- $\\mu \\to i$\n",
    "- $\\alpha \\to j$\n",
    "- $\\beta \\to k$\n",
    "- $\\lambda \\to l$"
   ]
  },
  {
   "cell_type": "markdown",
   "id": "46fd733f-4234-4ef5-b9b9-d7f2818fdf24",
   "metadata": {},
   "source": [
    "Note that this code currently only works for metrics whose covariant and contravariant components are direct inverses of eachother. This is expressed by:\n",
    "\n",
    "$$g_{\\alpha \\beta}g^{\\beta \\mu} = \\delta_{\\alpha}^{\\mu}$$\n",
    "\n",
    "\n",
    "Would like to build:\n",
    "\n",
    "1) Riemann curvature tensor solver\n",
    "\n",
    "2) Ricci scalar tensor solver\n",
    "\n",
    "3) Einstein tensor solver\n",
    "\n",
    "... these would all make my life a lot easier...\n",
    "\n",
    "Notes for future work:\n",
    "\n",
    "- Define these functions in a separate file and have example calculations in another file\n"
   ]
  },
  {
   "cell_type": "code",
   "execution_count": 44,
   "id": "7f7af5da-8a3f-4d53-aa59-1553495802c9",
   "metadata": {},
   "outputs": [],
   "source": [
    "# Initialize LaTeX printing\n",
    "init_printing()\n",
    "\n",
    "def christoffel_symbols(metric_tensor, inverse_metric_tensor, coordinates):\n",
    "    num_coords = len(coordinates)\n",
    "    # Creating a rank 3 tensor(3D matrix) where all of the Christoffel symbols will be stored\n",
    "    christoffel = [[[0 for _ in range(num_coords)] for _ in range(num_coords)] for _ in range(num_coords)]\n",
    "\n",
    "    for i in range(num_coords):\n",
    "        for j in range(num_coords):\n",
    "            for k in range(num_coords):\n",
    "                sum_term = 0.0\n",
    "                for l in range(num_coords):\n",
    "                    term1 = 0.5 * inverse_metric_tensor[i, l] * (\n",
    "                        diff(metric_tensor[l, j], coordinates[k]) +\n",
    "                        diff(metric_tensor[l, k], coordinates[j]) -\n",
    "                        diff(metric_tensor[j, k], coordinates[l])\n",
    "                    )\n",
    "                    sum_term += term1\n",
    "                christoffel[i][j][k] = sum_term\n",
    "\n",
    "    return christoffel"
   ]
  },
  {
   "cell_type": "markdown",
   "id": "0bd50e73-79d1-4762-9eb1-2d0b36cfb206",
   "metadata": {},
   "source": [
    "The Riemann curvature tensor, defined in terms of partial deriavtives of the metric, is given as:\n",
    "\n",
    "$$R_{\\beta\\mu\\nu}^{\\alpha} = \\frac{1}{2}g^{\\alpha\\sigma}\\left( \\frac{\\partial^2 g_{\\sigma \\nu}}{\\partial x^{\\beta}x^{\\mu}} - \\frac{\\partial^2 g_{\\sigma \\mu}}{\\partial x^{\\beta}x^{\\nu}} + \\frac{\\partial^2 g_{\\beta \\mu}}{\\partial x^{\\sigma}x^{\\nu}}- \\frac{\\partial^2 g_{\\beta \\nu}}{\\partial x^{\\sigma}x^{\\mu}} \\right)$$"
   ]
  },
  {
   "cell_type": "markdown",
   "id": "54449f41-9235-4420-8df2-103190d85191",
   "metadata": {},
   "source": [
    "Note: \n",
    "\n",
    "For this code, I have mapped the variables in the following way\n",
    "\n",
    "- $\\alpha \\to i$\n",
    "- $\\beta \\to j$\n",
    "- $\\mu \\to k$\n",
    "- $\\nu \\to l$\n",
    "- $\\sigma \\to m$"
   ]
  },
  {
   "cell_type": "code",
   "execution_count": 39,
   "id": "18c01a1c-2a42-4aa2-8c70-323e240b0392",
   "metadata": {},
   "outputs": [],
   "source": [
    "def Riemann(metric_tensor, inverse_metric_tensor, coordinates):\n",
    "    num_coordinates = len(coordinates)\n",
    "    # Creating a 4D matrix to store the Riemann curvature tensor values in\n",
    "    riemann = [[[[0 for _ in range(num_coordinates)] for _ in range(num_coordinates)] for _ in range(num_coordinates)] for _ in range(num_coordinates)]\n",
    "\n",
    "    for i in range(num_coordinates):\n",
    "        for j in range(num_coordinates):\n",
    "            for k in range(num_coordinates):\n",
    "                for l in range(num_coordinates):\n",
    "                    sum_term = 0\n",
    "                    for m in range(num_coordinates):\n",
    "                        term1 = .5* inverse_metric_tensor[i,m] * (\n",
    "                            diff(diff(metric_tensor[m,l], coordinates[j]), coordinates[k]) -\n",
    "                            diff(diff(metric_tensor[m,k], coordinates[j]), coordinates[l]) +\n",
    "                            diff(diff(metric_tensor[j,k], coordinates[m]), coordinates[l]) -\n",
    "                            diff(diff(metric_tensor[j,l], coordinates[m]), coordinates[k])\n",
    "                        ) \n",
    "                        sum_term += term1\n",
    "                    riemann[i][j][k][l] = sum_term\n",
    "    return riemann"
   ]
  },
  {
   "cell_type": "code",
   "execution_count": 7,
   "id": "4f313f5f-54d4-4b63-aff8-d6aff4369342",
   "metadata": {},
   "outputs": [
    {
     "name": "stdout",
     "output_type": "stream",
     "text": [
      "Christoffel Symbols:\n"
     ]
    },
    {
     "data": {
      "text/latex": [
       "\\(\\Gamma^{r}_{rr} = 0\\)"
      ],
      "text/plain": [
       "<IPython.core.display.Latex object>"
      ]
     },
     "metadata": {},
     "output_type": "display_data"
    },
    {
     "data": {
      "text/latex": [
       "\\(\\Gamma^{r}_{rθ} = 0\\)"
      ],
      "text/plain": [
       "<IPython.core.display.Latex object>"
      ]
     },
     "metadata": {},
     "output_type": "display_data"
    },
    {
     "data": {
      "text/latex": [
       "\\(\\Gamma^{r}_{rφ} = 0\\)"
      ],
      "text/plain": [
       "<IPython.core.display.Latex object>"
      ]
     },
     "metadata": {},
     "output_type": "display_data"
    },
    {
     "data": {
      "text/latex": [
       "\\(\\Gamma^{r}_{θr} = 0\\)"
      ],
      "text/plain": [
       "<IPython.core.display.Latex object>"
      ]
     },
     "metadata": {},
     "output_type": "display_data"
    },
    {
     "data": {
      "text/latex": [
       "\\(\\Gamma^{r}_{θθ} = - 1.0 r\\)"
      ],
      "text/plain": [
       "<IPython.core.display.Latex object>"
      ]
     },
     "metadata": {},
     "output_type": "display_data"
    },
    {
     "data": {
      "text/latex": [
       "\\(\\Gamma^{r}_{θφ} = 0\\)"
      ],
      "text/plain": [
       "<IPython.core.display.Latex object>"
      ]
     },
     "metadata": {},
     "output_type": "display_data"
    },
    {
     "data": {
      "text/latex": [
       "\\(\\Gamma^{r}_{φr} = 0\\)"
      ],
      "text/plain": [
       "<IPython.core.display.Latex object>"
      ]
     },
     "metadata": {},
     "output_type": "display_data"
    },
    {
     "data": {
      "text/latex": [
       "\\(\\Gamma^{r}_{φθ} = 0\\)"
      ],
      "text/plain": [
       "<IPython.core.display.Latex object>"
      ]
     },
     "metadata": {},
     "output_type": "display_data"
    },
    {
     "data": {
      "text/latex": [
       "\\(\\Gamma^{r}_{φφ} = - 1.0 r \\sin^{2}{\\left(θ \\right)}\\)"
      ],
      "text/plain": [
       "<IPython.core.display.Latex object>"
      ]
     },
     "metadata": {},
     "output_type": "display_data"
    },
    {
     "data": {
      "text/latex": [
       "\\(\\Gamma^{θ}_{rr} = 0\\)"
      ],
      "text/plain": [
       "<IPython.core.display.Latex object>"
      ]
     },
     "metadata": {},
     "output_type": "display_data"
    },
    {
     "data": {
      "text/latex": [
       "\\(\\Gamma^{θ}_{rθ} = \\frac{1.0}{r}\\)"
      ],
      "text/plain": [
       "<IPython.core.display.Latex object>"
      ]
     },
     "metadata": {},
     "output_type": "display_data"
    },
    {
     "data": {
      "text/latex": [
       "\\(\\Gamma^{θ}_{rφ} = 0\\)"
      ],
      "text/plain": [
       "<IPython.core.display.Latex object>"
      ]
     },
     "metadata": {},
     "output_type": "display_data"
    },
    {
     "data": {
      "text/latex": [
       "\\(\\Gamma^{θ}_{θr} = \\frac{1.0}{r}\\)"
      ],
      "text/plain": [
       "<IPython.core.display.Latex object>"
      ]
     },
     "metadata": {},
     "output_type": "display_data"
    },
    {
     "data": {
      "text/latex": [
       "\\(\\Gamma^{θ}_{θθ} = 0\\)"
      ],
      "text/plain": [
       "<IPython.core.display.Latex object>"
      ]
     },
     "metadata": {},
     "output_type": "display_data"
    },
    {
     "data": {
      "text/latex": [
       "\\(\\Gamma^{θ}_{θφ} = 0\\)"
      ],
      "text/plain": [
       "<IPython.core.display.Latex object>"
      ]
     },
     "metadata": {},
     "output_type": "display_data"
    },
    {
     "data": {
      "text/latex": [
       "\\(\\Gamma^{θ}_{φr} = 0\\)"
      ],
      "text/plain": [
       "<IPython.core.display.Latex object>"
      ]
     },
     "metadata": {},
     "output_type": "display_data"
    },
    {
     "data": {
      "text/latex": [
       "\\(\\Gamma^{θ}_{φθ} = 0\\)"
      ],
      "text/plain": [
       "<IPython.core.display.Latex object>"
      ]
     },
     "metadata": {},
     "output_type": "display_data"
    },
    {
     "data": {
      "text/latex": [
       "\\(\\Gamma^{θ}_{φφ} = - 1.0 \\sin{\\left(θ \\right)} \\cos{\\left(θ \\right)}\\)"
      ],
      "text/plain": [
       "<IPython.core.display.Latex object>"
      ]
     },
     "metadata": {},
     "output_type": "display_data"
    },
    {
     "data": {
      "text/latex": [
       "\\(\\Gamma^{φ}_{rr} = 0\\)"
      ],
      "text/plain": [
       "<IPython.core.display.Latex object>"
      ]
     },
     "metadata": {},
     "output_type": "display_data"
    },
    {
     "data": {
      "text/latex": [
       "\\(\\Gamma^{φ}_{rθ} = 0\\)"
      ],
      "text/plain": [
       "<IPython.core.display.Latex object>"
      ]
     },
     "metadata": {},
     "output_type": "display_data"
    },
    {
     "data": {
      "text/latex": [
       "\\(\\Gamma^{φ}_{rφ} = \\frac{1.0}{r}\\)"
      ],
      "text/plain": [
       "<IPython.core.display.Latex object>"
      ]
     },
     "metadata": {},
     "output_type": "display_data"
    },
    {
     "data": {
      "text/latex": [
       "\\(\\Gamma^{φ}_{θr} = 0\\)"
      ],
      "text/plain": [
       "<IPython.core.display.Latex object>"
      ]
     },
     "metadata": {},
     "output_type": "display_data"
    },
    {
     "data": {
      "text/latex": [
       "\\(\\Gamma^{φ}_{θθ} = 0\\)"
      ],
      "text/plain": [
       "<IPython.core.display.Latex object>"
      ]
     },
     "metadata": {},
     "output_type": "display_data"
    },
    {
     "data": {
      "text/latex": [
       "\\(\\Gamma^{φ}_{θφ} = \\frac{1.0 \\cos{\\left(θ \\right)}}{\\sin{\\left(θ \\right)}}\\)"
      ],
      "text/plain": [
       "<IPython.core.display.Latex object>"
      ]
     },
     "metadata": {},
     "output_type": "display_data"
    },
    {
     "data": {
      "text/latex": [
       "\\(\\Gamma^{φ}_{φr} = \\frac{1.0}{r}\\)"
      ],
      "text/plain": [
       "<IPython.core.display.Latex object>"
      ]
     },
     "metadata": {},
     "output_type": "display_data"
    },
    {
     "data": {
      "text/latex": [
       "\\(\\Gamma^{φ}_{φθ} = \\frac{1.0 \\cos{\\left(θ \\right)}}{\\sin{\\left(θ \\right)}}\\)"
      ],
      "text/plain": [
       "<IPython.core.display.Latex object>"
      ]
     },
     "metadata": {},
     "output_type": "display_data"
    },
    {
     "data": {
      "text/latex": [
       "\\(\\Gamma^{φ}_{φφ} = 0\\)"
      ],
      "text/plain": [
       "<IPython.core.display.Latex object>"
      ]
     },
     "metadata": {},
     "output_type": "display_data"
    }
   ],
   "source": [
    "# Example usage:\n",
    "# Define your metric tensor and coordinates\n",
    "# For example, consider 3D space with coordinates (r, θ, φ)\n",
    "r, θ, φ = symbols('r θ φ')\n",
    "metric_tensor = Matrix([[1, 0, 0], [0, r**2, 0], [0, 0, r**2 * sin(θ)**2]])\n",
    "inverse_metric_tensor = metric_tensor.inv()\n",
    "coordinates = [r, θ, φ]\n",
    "\n",
    "# Calculate Christoffel symbols for specified terms\n",
    "christoffel_symbols_result = christoffel_symbols(metric_tensor, inverse_metric_tensor, coordinates)\n",
    "\n",
    "# Display the result in LaTeX format using IPython.display.Latex\n",
    "print(\"Christoffel Symbols:\")\n",
    "for i in range(len(coordinates)):\n",
    "    for j in range(len(coordinates)):\n",
    "        for k in range(len(coordinates)):\n",
    "            symbol_latex = latex(christoffel_symbols_result[i][j][k])\n",
    "            display(Latex(f'\\\\(\\\\Gamma^{{{latex(coordinates[i])}}}_{{{latex(coordinates[j])}{latex(coordinates[k])}}} = {symbol_latex}\\\\)'))\n",
    "\n",
    "# Greek Symbols: α, β, γ, δ, ε, ζ, η, θ, ι, κ, λ, μ, ν, ξ, ο, π, ρ, σ, τ, υ, φ, χ, ψ, ω,\n",
    "#                 Α, Β, Γ, Δ, Ε, Ζ, Η, Θ, Ι, Κ, Λ, Μ, Ν, Ξ, Ο, Π, Ρ, Σ, Τ, Υ, Φ, Χ, Ψ, Ω\n"
   ]
  },
  {
   "cell_type": "markdown",
   "id": "f094dda1-69b3-4852-b05b-0a124baeafa1",
   "metadata": {},
   "source": [
    "Example 2:\n",
    "\n",
    "Compute the Christoffel symbols and Riemann curvature tensor for the round metric of the three-sphere:\n",
    "\n",
    "$$ds^2 = d\\psi^2 +\\sin^2(\\psi)\\left(d\\theta^2+\\sin^2(\\theta)d\\phi \\right) $$\n",
    "\n",
    "$$\\implies g_{\\mu \\nu} = \\begin{pmatrix}\n",
    "1 & 0 & 0 \\\\\n",
    "0 & \\sin^2(\\psi) & 0 \\\\\n",
    "0 & 0 & \\sin^2(\\psi)\\sin^2(\\theta)\n",
    "\\end{pmatrix}$$\n",
    "\n",
    "(Using https://www.physics.mcgill.ca/~rhb/ph514/10sol6.pdf to check this work)"
   ]
  },
  {
   "cell_type": "code",
   "execution_count": 36,
   "id": "9562f5b9-a8ed-4da9-b1f8-38d6505907b8",
   "metadata": {},
   "outputs": [
    {
     "name": "stdout",
     "output_type": "stream",
     "text": [
      "Christoffel Symbols:\n"
     ]
    },
    {
     "data": {
      "text/latex": [
       "\\(\\Gamma^{ψ}_{θθ} = - 0.5 \\sin{\\left(2 ψ \\right)}\\)"
      ],
      "text/plain": [
       "<IPython.core.display.Latex object>"
      ]
     },
     "metadata": {},
     "output_type": "display_data"
    },
    {
     "data": {
      "text/latex": [
       "\\(\\Gamma^{ψ}_{φφ} = - 1.0 \\sin^{2}{\\left(θ \\right)} \\sin{\\left(ψ \\right)} \\cos{\\left(ψ \\right)}\\)"
      ],
      "text/plain": [
       "<IPython.core.display.Latex object>"
      ]
     },
     "metadata": {},
     "output_type": "display_data"
    },
    {
     "data": {
      "text/latex": [
       "\\(\\Gamma^{θ}_{ψθ} = \\frac{1.0}{\\tan{\\left(ψ \\right)}}\\)"
      ],
      "text/plain": [
       "<IPython.core.display.Latex object>"
      ]
     },
     "metadata": {},
     "output_type": "display_data"
    },
    {
     "data": {
      "text/latex": [
       "\\(\\Gamma^{θ}_{θψ} = \\frac{1.0}{\\tan{\\left(ψ \\right)}}\\)"
      ],
      "text/plain": [
       "<IPython.core.display.Latex object>"
      ]
     },
     "metadata": {},
     "output_type": "display_data"
    },
    {
     "data": {
      "text/latex": [
       "\\(\\Gamma^{θ}_{φφ} = - 0.5 \\sin{\\left(2 θ \\right)}\\)"
      ],
      "text/plain": [
       "<IPython.core.display.Latex object>"
      ]
     },
     "metadata": {},
     "output_type": "display_data"
    },
    {
     "data": {
      "text/latex": [
       "\\(\\Gamma^{φ}_{ψφ} = \\frac{1.0}{\\tan{\\left(ψ \\right)}}\\)"
      ],
      "text/plain": [
       "<IPython.core.display.Latex object>"
      ]
     },
     "metadata": {},
     "output_type": "display_data"
    },
    {
     "data": {
      "text/latex": [
       "\\(\\Gamma^{φ}_{θφ} = \\frac{1.0}{\\tan{\\left(θ \\right)}}\\)"
      ],
      "text/plain": [
       "<IPython.core.display.Latex object>"
      ]
     },
     "metadata": {},
     "output_type": "display_data"
    },
    {
     "data": {
      "text/latex": [
       "\\(\\Gamma^{φ}_{φψ} = \\frac{1.0}{\\tan{\\left(ψ \\right)}}\\)"
      ],
      "text/plain": [
       "<IPython.core.display.Latex object>"
      ]
     },
     "metadata": {},
     "output_type": "display_data"
    },
    {
     "data": {
      "text/latex": [
       "\\(\\Gamma^{φ}_{φθ} = \\frac{1.0}{\\tan{\\left(θ \\right)}}\\)"
      ],
      "text/plain": [
       "<IPython.core.display.Latex object>"
      ]
     },
     "metadata": {},
     "output_type": "display_data"
    }
   ],
   "source": [
    "ψ, θ, φ = symbols('ψ θ φ')\n",
    "metric_tensor = Matrix([[1, 0, 0], [0, sin(ψ)**2, 0], [0, 0, sin(ψ)**2 * sin(θ)**2]])\n",
    "inverse_metric_tensor = metric_tensor.inv()\n",
    "coordinates = [ψ, θ, φ]\n",
    "\n",
    "# Calculate Christoffel symbols for specified terms\n",
    "christoffel_symbols_result = christoffel_symbols(metric_tensor, inverse_metric_tensor, coordinates)\n",
    "\n",
    "# Display the result in LaTeX format using IPython.display.Latex\n",
    "print(\"Christoffel Symbols:\")\n",
    "for i in range(len(coordinates)):\n",
    "    for j in range(len(coordinates)):\n",
    "        for k in range(len(coordinates)):\n",
    "            if christoffel_symbols_result[i][j][k] != 0:\n",
    "                simplified = simplify(christoffel_symbols_result[i][j][k])\n",
    "                symbol_latex = latex(simplified)\n",
    "                display(Latex(f'\\\\(\\\\Gamma^{{{latex(coordinates[i])}}}_{{{latex(coordinates[j])}{latex(coordinates[k])}}} = {symbol_latex}\\\\)'))\n",
    "\n",
    "# Greek Symbols: α, β, γ, δ, ε, ζ, η, θ, ι, κ, λ, μ, ν, ξ, ο, π, ρ, σ, τ, υ, φ, χ, ψ, ω,\n",
    "#                 Α, Β, Γ, Δ, Ε, Ζ, Η, Θ, Ι, Κ, Λ, Μ, Ν, Ξ, Ο, Π, Ρ, Σ, Τ, Υ, Φ, Χ, Ψ, Ω\n"
   ]
  },
  {
   "cell_type": "code",
   "execution_count": 40,
   "id": "dd0e8771-caba-4b39-b13c-221a6116b389",
   "metadata": {},
   "outputs": [
    {
     "name": "stdout",
     "output_type": "stream",
     "text": [
      "Riemann Curvature Tensor Components:\n"
     ]
    },
    {
     "data": {
      "text/latex": [
       "\\(R^{ψ}_{θψθ} = - 1.0 \\cos{\\left(2 ψ \\right)}\\)"
      ],
      "text/plain": [
       "<IPython.core.display.Latex object>"
      ]
     },
     "metadata": {},
     "output_type": "display_data"
    },
    {
     "data": {
      "text/latex": [
       "\\(R^{ψ}_{θθψ} = 1.0 \\cos{\\left(2 ψ \\right)}\\)"
      ],
      "text/plain": [
       "<IPython.core.display.Latex object>"
      ]
     },
     "metadata": {},
     "output_type": "display_data"
    },
    {
     "data": {
      "text/latex": [
       "\\(R^{ψ}_{φψφ} = - 1.0 \\sin^{2}{\\left(θ \\right)} \\cos{\\left(2 ψ \\right)}\\)"
      ],
      "text/plain": [
       "<IPython.core.display.Latex object>"
      ]
     },
     "metadata": {},
     "output_type": "display_data"
    },
    {
     "data": {
      "text/latex": [
       "\\(R^{ψ}_{φθφ} = - 0.25 \\cos{\\left(2 θ - 2 ψ \\right)} + 0.25 \\cos{\\left(2 θ + 2 ψ \\right)}\\)"
      ],
      "text/plain": [
       "<IPython.core.display.Latex object>"
      ]
     },
     "metadata": {},
     "output_type": "display_data"
    },
    {
     "data": {
      "text/latex": [
       "\\(R^{ψ}_{φφψ} = 1.0 \\sin^{2}{\\left(θ \\right)} \\cos{\\left(2 ψ \\right)}\\)"
      ],
      "text/plain": [
       "<IPython.core.display.Latex object>"
      ]
     },
     "metadata": {},
     "output_type": "display_data"
    },
    {
     "data": {
      "text/latex": [
       "\\(R^{ψ}_{φφθ} = 0.25 \\cos{\\left(2 θ - 2 ψ \\right)} - 0.25 \\cos{\\left(2 θ + 2 ψ \\right)}\\)"
      ],
      "text/plain": [
       "<IPython.core.display.Latex object>"
      ]
     },
     "metadata": {},
     "output_type": "display_data"
    },
    {
     "data": {
      "text/latex": [
       "\\(R^{θ}_{ψψθ} = -1.0 + \\frac{1.0}{\\tan^{2}{\\left(ψ \\right)}}\\)"
      ],
      "text/plain": [
       "<IPython.core.display.Latex object>"
      ]
     },
     "metadata": {},
     "output_type": "display_data"
    },
    {
     "data": {
      "text/latex": [
       "\\(R^{θ}_{ψθψ} = 1.0 - \\frac{1.0}{\\tan^{2}{\\left(ψ \\right)}}\\)"
      ],
      "text/plain": [
       "<IPython.core.display.Latex object>"
      ]
     },
     "metadata": {},
     "output_type": "display_data"
    },
    {
     "data": {
      "text/latex": [
       "\\(R^{θ}_{φψφ} = - \\frac{1.0 \\sin{\\left(2 θ \\right)}}{\\tan{\\left(ψ \\right)}}\\)"
      ],
      "text/plain": [
       "<IPython.core.display.Latex object>"
      ]
     },
     "metadata": {},
     "output_type": "display_data"
    },
    {
     "data": {
      "text/latex": [
       "\\(R^{θ}_{φθφ} = - 1.0 \\cos{\\left(2 θ \\right)}\\)"
      ],
      "text/plain": [
       "<IPython.core.display.Latex object>"
      ]
     },
     "metadata": {},
     "output_type": "display_data"
    },
    {
     "data": {
      "text/latex": [
       "\\(R^{θ}_{φφψ} = \\frac{1.0 \\sin{\\left(2 θ \\right)}}{\\tan{\\left(ψ \\right)}}\\)"
      ],
      "text/plain": [
       "<IPython.core.display.Latex object>"
      ]
     },
     "metadata": {},
     "output_type": "display_data"
    },
    {
     "data": {
      "text/latex": [
       "\\(R^{θ}_{φφθ} = 1.0 \\cos{\\left(2 θ \\right)}\\)"
      ],
      "text/plain": [
       "<IPython.core.display.Latex object>"
      ]
     },
     "metadata": {},
     "output_type": "display_data"
    },
    {
     "data": {
      "text/latex": [
       "\\(R^{φ}_{ψψφ} = -1.0 + \\frac{1.0}{\\tan^{2}{\\left(ψ \\right)}}\\)"
      ],
      "text/plain": [
       "<IPython.core.display.Latex object>"
      ]
     },
     "metadata": {},
     "output_type": "display_data"
    },
    {
     "data": {
      "text/latex": [
       "\\(R^{φ}_{ψθφ} = \\frac{2.0}{\\tan{\\left(θ \\right)} \\tan{\\left(ψ \\right)}}\\)"
      ],
      "text/plain": [
       "<IPython.core.display.Latex object>"
      ]
     },
     "metadata": {},
     "output_type": "display_data"
    },
    {
     "data": {
      "text/latex": [
       "\\(R^{φ}_{ψφψ} = 1.0 - \\frac{1.0}{\\tan^{2}{\\left(ψ \\right)}}\\)"
      ],
      "text/plain": [
       "<IPython.core.display.Latex object>"
      ]
     },
     "metadata": {},
     "output_type": "display_data"
    },
    {
     "data": {
      "text/latex": [
       "\\(R^{φ}_{ψφθ} = - \\frac{2.0}{\\tan{\\left(θ \\right)} \\tan{\\left(ψ \\right)}}\\)"
      ],
      "text/plain": [
       "<IPython.core.display.Latex object>"
      ]
     },
     "metadata": {},
     "output_type": "display_data"
    },
    {
     "data": {
      "text/latex": [
       "\\(R^{φ}_{θψφ} = \\frac{2.0}{\\tan{\\left(θ \\right)} \\tan{\\left(ψ \\right)}}\\)"
      ],
      "text/plain": [
       "<IPython.core.display.Latex object>"
      ]
     },
     "metadata": {},
     "output_type": "display_data"
    },
    {
     "data": {
      "text/latex": [
       "\\(R^{φ}_{θθφ} = -1.0 + \\frac{1.0}{\\tan^{2}{\\left(θ \\right)}}\\)"
      ],
      "text/plain": [
       "<IPython.core.display.Latex object>"
      ]
     },
     "metadata": {},
     "output_type": "display_data"
    },
    {
     "data": {
      "text/latex": [
       "\\(R^{φ}_{θφψ} = - \\frac{2.0}{\\tan{\\left(θ \\right)} \\tan{\\left(ψ \\right)}}\\)"
      ],
      "text/plain": [
       "<IPython.core.display.Latex object>"
      ]
     },
     "metadata": {},
     "output_type": "display_data"
    },
    {
     "data": {
      "text/latex": [
       "\\(R^{φ}_{θφθ} = 1.0 - \\frac{1.0}{\\tan^{2}{\\left(θ \\right)}}\\)"
      ],
      "text/plain": [
       "<IPython.core.display.Latex object>"
      ]
     },
     "metadata": {},
     "output_type": "display_data"
    }
   ],
   "source": [
    "ψ, θ, φ = symbols('ψ θ φ')\n",
    "metric_tensor = Matrix([[1, 0, 0], [0, sin(ψ)**2, 0], [0, 0, sin(ψ)**2 * sin(θ)**2]])\n",
    "inverse_metric_tensor = metric_tensor.inv()\n",
    "coordinates = [ψ, θ, φ]\n",
    "\n",
    "# Calculate Christoffel symbols for specified terms\n",
    "Riemann_result = Riemann(metric_tensor, inverse_metric_tensor, coordinates)\n",
    "\n",
    "# Display the result in LaTeX format using IPython.display.Latex\n",
    "\n",
    "print(\"Riemann Curvature Tensor Components:\")\n",
    "for i in range(len(coordinates)):\n",
    "    for j in range(len(coordinates)):\n",
    "        for k in range(len(coordinates)):\n",
    "            for l in range(len(coordinates)):\n",
    "                if Riemann_result[i][j][k][l] != 0:\n",
    "                    simplified_component = simplify(Riemann_result[i][j][k][l])\n",
    "                    symbol_latex = latex(simplified_component)\n",
    "                    display(Latex(f'\\\\(R^{{{latex(coordinates[i])}}}_{{{latex(coordinates[j])}{latex(coordinates[k])}{latex(coordinates[l])}}} = {symbol_latex}\\\\)'))\n",
    "                    \n",
    "# Greek Symbols: α, β, γ, δ, ε, ζ, η, θ, ι, κ, λ, μ, ν, ξ, ο, π, ρ, σ, τ, υ, φ, χ, ψ, ω,\n",
    "#                 Α, Β, Γ, Δ, Ε, Ζ, Η, Θ, Ι, Κ, Λ, Μ, Ν, Ξ, Ο, Π, Ρ, Σ, Τ, Υ, Φ, Χ, Ψ, Ω\n"
   ]
  },
  {
   "cell_type": "code",
   "execution_count": null,
   "id": "48d81496-6408-4ff0-b867-486b36c1ada8",
   "metadata": {},
   "outputs": [],
   "source": []
  },
  {
   "cell_type": "code",
   "execution_count": null,
   "id": "d094d345-7f7e-4931-ba35-188911b9bf43",
   "metadata": {},
   "outputs": [],
   "source": []
  },
  {
   "cell_type": "code",
   "execution_count": null,
   "id": "70693cf8-f903-45e8-8a42-572f31285bdb",
   "metadata": {},
   "outputs": [],
   "source": []
  },
  {
   "cell_type": "code",
   "execution_count": null,
   "id": "d1eb3aaa-20d9-49e4-b9ed-fc9537164c8b",
   "metadata": {},
   "outputs": [],
   "source": []
  },
  {
   "cell_type": "code",
   "execution_count": null,
   "id": "334e433e-8159-44ed-bc78-9b7fd5b61791",
   "metadata": {},
   "outputs": [],
   "source": []
  }
 ],
 "metadata": {
  "kernelspec": {
   "display_name": "Python 3 (ipykernel)",
   "language": "python",
   "name": "python3"
  },
  "language_info": {
   "codemirror_mode": {
    "name": "ipython",
    "version": 3
   },
   "file_extension": ".py",
   "mimetype": "text/x-python",
   "name": "python",
   "nbconvert_exporter": "python",
   "pygments_lexer": "ipython3",
   "version": "3.11.4"
  }
 },
 "nbformat": 4,
 "nbformat_minor": 5
}
